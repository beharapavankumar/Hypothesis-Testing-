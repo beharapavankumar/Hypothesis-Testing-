{
 "cells": [
  {
   "cell_type": "markdown",
   "id": "a00e191f-73de-4713-b543-7fb8a2a1acc6",
   "metadata": {},
   "source": [
    "# Statistics"
   ]
  },
  {
   "cell_type": "markdown",
   "id": "ca66b671-fa0a-49ec-a51f-a804f0c12ec5",
   "metadata": {},
   "source": [
    "- Measure & Analyze the data (Structured Data)"
   ]
  },
  {
   "cell_type": "markdown",
   "id": "f92439d8-91b9-4dcd-8687-c78487afaa2a",
   "metadata": {},
   "source": [
    "**Types of statistics**"
   ]
  },
  {
   "cell_type": "markdown",
   "id": "8ea517c9-22e2-4a71-90aa-2b800884c07b",
   "metadata": {},
   "source": [
    "- Descriptive statistics :\n",
    "- collecting,measuring,presenting and describing data"
   ]
  },
  {
   "cell_type": "markdown",
   "id": "d2365a59-6363-45aa-a93f-c373fccfded3",
   "metadata": {},
   "source": [
    "- inferential statistics :\n",
    "- drawing conclusion and/or making decisions concerning a population based on sample data"
   ]
  },
  {
   "cell_type": "code",
   "execution_count": 1,
   "id": "06cdfd8e-9ed0-46ab-b88a-13242f3ae78c",
   "metadata": {},
   "outputs": [],
   "source": [
    "import numpy as np\n",
    "import pandas as pd\n",
    "\n",
    "import matplotlib.pyplot as plt\n",
    "import seaborn as sns"
   ]
  },
  {
   "cell_type": "markdown",
   "id": "0ecdfddb-2166-485e-9cbc-8b50ab698ad1",
   "metadata": {},
   "source": [
    "# Measures of Central Tendency (1st Business Moment)"
   ]
  },
  {
   "cell_type": "markdown",
   "id": "abc0b919-c51a-4eb8-ad6f-d5fc7c5082fb",
   "metadata": {},
   "source": [
    "- Mean , Median , Mode\n",
    "- Mean & Median are applied on continous data\n",
    "- Mode is applied on discrete data"
   ]
  },
  {
   "cell_type": "markdown",
   "id": "911175b0-3df9-428a-909b-20e3bce3de39",
   "metadata": {},
   "source": [
    "**Mean**"
   ]
  },
  {
   "cell_type": "markdown",
   "id": "01122018-ce32-4a17-8fb3-c77c8832488f",
   "metadata": {},
   "source": [
    "- sum of all data values/Total no.of data values\n",
    "- Mean is applied on continous data"
   ]
  },
  {
   "cell_type": "code",
   "execution_count": 2,
   "id": "8efa9e39-dd72-44b7-9a00-c02f8fbb6761",
   "metadata": {},
   "outputs": [
    {
     "data": {
      "text/html": [
       "<div>\n",
       "<style scoped>\n",
       "    .dataframe tbody tr th:only-of-type {\n",
       "        vertical-align: middle;\n",
       "    }\n",
       "\n",
       "    .dataframe tbody tr th {\n",
       "        vertical-align: top;\n",
       "    }\n",
       "\n",
       "    .dataframe thead th {\n",
       "        text-align: right;\n",
       "    }\n",
       "</style>\n",
       "<table border=\"1\" class=\"dataframe\">\n",
       "  <thead>\n",
       "    <tr style=\"text-align: right;\">\n",
       "      <th></th>\n",
       "      <th>x</th>\n",
       "    </tr>\n",
       "  </thead>\n",
       "  <tbody>\n",
       "    <tr>\n",
       "      <th>0</th>\n",
       "      <td>1</td>\n",
       "    </tr>\n",
       "    <tr>\n",
       "      <th>1</th>\n",
       "      <td>2</td>\n",
       "    </tr>\n",
       "    <tr>\n",
       "      <th>2</th>\n",
       "      <td>3</td>\n",
       "    </tr>\n",
       "    <tr>\n",
       "      <th>3</th>\n",
       "      <td>4</td>\n",
       "    </tr>\n",
       "    <tr>\n",
       "      <th>4</th>\n",
       "      <td>5</td>\n",
       "    </tr>\n",
       "  </tbody>\n",
       "</table>\n",
       "</div>"
      ],
      "text/plain": [
       "   x\n",
       "0  1\n",
       "1  2\n",
       "2  3\n",
       "3  4\n",
       "4  5"
      ]
     },
     "execution_count": 2,
     "metadata": {},
     "output_type": "execute_result"
    }
   ],
   "source": [
    "df = pd.DataFrame({\"x\":[1,2,3,4,5]})\n",
    "df"
   ]
  },
  {
   "cell_type": "code",
   "execution_count": 3,
   "id": "6d5c7200-2289-4c2a-bb04-6ce63531cb2c",
   "metadata": {},
   "outputs": [
    {
     "data": {
      "text/plain": [
       "3.0"
      ]
     },
     "execution_count": 3,
     "metadata": {},
     "output_type": "execute_result"
    }
   ],
   "source": [
    "df[\"x\"].mean()"
   ]
  },
  {
   "cell_type": "code",
   "execution_count": 4,
   "id": "d1a8e513-378e-465b-a38d-25198025ce0b",
   "metadata": {},
   "outputs": [
    {
     "data": {
      "text/plain": [
       "3.0"
      ]
     },
     "execution_count": 4,
     "metadata": {},
     "output_type": "execute_result"
    }
   ],
   "source": [
    "df[\"x\"].sum()/len(df)"
   ]
  },
  {
   "cell_type": "markdown",
   "id": "b87aa9e9-f719-4016-b58e-4ee65e396be8",
   "metadata": {},
   "source": [
    "**Median**"
   ]
  },
  {
   "cell_type": "markdown",
   "id": "15de3567-04d3-4a18-9bab-3bf5e4e51262",
   "metadata": {},
   "source": [
    "- Refers to the data value that is positioned in the middle of an ordered dataset\n",
    "- Median is applied on continous data\n",
    "- Median refers to centre value if you have odd number of data points\n",
    "- Median refers to average of centre 2 values if you have even number of data points"
   ]
  },
  {
   "cell_type": "code",
   "execution_count": 5,
   "id": "01363393-79cd-48ba-ad2c-8392a979fd72",
   "metadata": {},
   "outputs": [
    {
     "data": {
      "text/html": [
       "<div>\n",
       "<style scoped>\n",
       "    .dataframe tbody tr th:only-of-type {\n",
       "        vertical-align: middle;\n",
       "    }\n",
       "\n",
       "    .dataframe tbody tr th {\n",
       "        vertical-align: top;\n",
       "    }\n",
       "\n",
       "    .dataframe thead th {\n",
       "        text-align: right;\n",
       "    }\n",
       "</style>\n",
       "<table border=\"1\" class=\"dataframe\">\n",
       "  <thead>\n",
       "    <tr style=\"text-align: right;\">\n",
       "      <th></th>\n",
       "      <th>y</th>\n",
       "      <th>z</th>\n",
       "    </tr>\n",
       "  </thead>\n",
       "  <tbody>\n",
       "    <tr>\n",
       "      <th>0</th>\n",
       "      <td>2</td>\n",
       "      <td>5</td>\n",
       "    </tr>\n",
       "    <tr>\n",
       "      <th>1</th>\n",
       "      <td>4</td>\n",
       "      <td>4</td>\n",
       "    </tr>\n",
       "    <tr>\n",
       "      <th>2</th>\n",
       "      <td>1</td>\n",
       "      <td>3</td>\n",
       "    </tr>\n",
       "    <tr>\n",
       "      <th>3</th>\n",
       "      <td>9</td>\n",
       "      <td>6</td>\n",
       "    </tr>\n",
       "    <tr>\n",
       "      <th>4</th>\n",
       "      <td>16</td>\n",
       "      <td>8</td>\n",
       "    </tr>\n",
       "    <tr>\n",
       "      <th>5</th>\n",
       "      <td>10</td>\n",
       "      <td>9</td>\n",
       "    </tr>\n",
       "    <tr>\n",
       "      <th>6</th>\n",
       "      <td>4</td>\n",
       "      <td>1</td>\n",
       "    </tr>\n",
       "    <tr>\n",
       "      <th>7</th>\n",
       "      <td>8</td>\n",
       "      <td>2</td>\n",
       "    </tr>\n",
       "    <tr>\n",
       "      <th>8</th>\n",
       "      <td>7</td>\n",
       "      <td>10</td>\n",
       "    </tr>\n",
       "  </tbody>\n",
       "</table>\n",
       "</div>"
      ],
      "text/plain": [
       "    y   z\n",
       "0   2   5\n",
       "1   4   4\n",
       "2   1   3\n",
       "3   9   6\n",
       "4  16   8\n",
       "5  10   9\n",
       "6   4   1\n",
       "7   8   2\n",
       "8   7  10"
      ]
     },
     "execution_count": 5,
     "metadata": {},
     "output_type": "execute_result"
    }
   ],
   "source": [
    "df=pd.DataFrame({\"y\":[2,4,1,9,16,10,4,8,7],\"z\":[5,4,3,6,8,9,1,2,10]})\n",
    "df"
   ]
  },
  {
   "cell_type": "code",
   "execution_count": 6,
   "id": "614dfd09-acf0-4372-a583-ec6433f22146",
   "metadata": {},
   "outputs": [
    {
     "data": {
      "text/plain": [
       "7.0"
      ]
     },
     "execution_count": 6,
     "metadata": {},
     "output_type": "execute_result"
    }
   ],
   "source": [
    "df[\"y\"].median()"
   ]
  },
  {
   "cell_type": "code",
   "execution_count": 7,
   "id": "85889da6-3536-4eb2-a0e5-d31e914a661f",
   "metadata": {},
   "outputs": [
    {
     "data": {
      "text/plain": [
       "5.0"
      ]
     },
     "execution_count": 7,
     "metadata": {},
     "output_type": "execute_result"
    }
   ],
   "source": [
    "df[\"z\"].median()"
   ]
  },
  {
   "cell_type": "markdown",
   "id": "3b634847-b3ed-4c6a-8c5c-6317bd286466",
   "metadata": {},
   "source": [
    "**Mode**"
   ]
  },
  {
   "cell_type": "markdown",
   "id": "728c6374-b25e-4328-86e5-2b6ce61cc3f5",
   "metadata": {},
   "source": [
    "- Most repeated value/Most frequent value"
   ]
  },
  {
   "cell_type": "markdown",
   "id": "f43a397b-298b-4412-9600-c62ca0dd5424",
   "metadata": {},
   "source": [
    "1) Unimodal Data - If the data have only 1 mode value\n",
    "2) Bimodal Data - If the data have 2 mode values\n",
    "3) Multimodal Data - If the data have more than 2 mode values"
   ]
  },
  {
   "cell_type": "code",
   "execution_count": 8,
   "id": "c976ab77-f354-4e4e-97f0-179ed0eaaf16",
   "metadata": {},
   "outputs": [
    {
     "data": {
      "text/html": [
       "<div>\n",
       "<style scoped>\n",
       "    .dataframe tbody tr th:only-of-type {\n",
       "        vertical-align: middle;\n",
       "    }\n",
       "\n",
       "    .dataframe tbody tr th {\n",
       "        vertical-align: top;\n",
       "    }\n",
       "\n",
       "    .dataframe thead th {\n",
       "        text-align: right;\n",
       "    }\n",
       "</style>\n",
       "<table border=\"1\" class=\"dataframe\">\n",
       "  <thead>\n",
       "    <tr style=\"text-align: right;\">\n",
       "      <th></th>\n",
       "      <th>x</th>\n",
       "      <th>y</th>\n",
       "      <th>z</th>\n",
       "      <th>i</th>\n",
       "    </tr>\n",
       "  </thead>\n",
       "  <tbody>\n",
       "    <tr>\n",
       "      <th>0</th>\n",
       "      <td>1</td>\n",
       "      <td>1</td>\n",
       "      <td>1</td>\n",
       "      <td>1</td>\n",
       "    </tr>\n",
       "    <tr>\n",
       "      <th>1</th>\n",
       "      <td>1</td>\n",
       "      <td>1</td>\n",
       "      <td>1</td>\n",
       "      <td>2</td>\n",
       "    </tr>\n",
       "    <tr>\n",
       "      <th>2</th>\n",
       "      <td>2</td>\n",
       "      <td>2</td>\n",
       "      <td>2</td>\n",
       "      <td>3</td>\n",
       "    </tr>\n",
       "    <tr>\n",
       "      <th>3</th>\n",
       "      <td>3</td>\n",
       "      <td>3</td>\n",
       "      <td>2</td>\n",
       "      <td>4</td>\n",
       "    </tr>\n",
       "    <tr>\n",
       "      <th>4</th>\n",
       "      <td>4</td>\n",
       "      <td>4</td>\n",
       "      <td>3</td>\n",
       "      <td>5</td>\n",
       "    </tr>\n",
       "    <tr>\n",
       "      <th>5</th>\n",
       "      <td>5</td>\n",
       "      <td>4</td>\n",
       "      <td>3</td>\n",
       "      <td>6</td>\n",
       "    </tr>\n",
       "  </tbody>\n",
       "</table>\n",
       "</div>"
      ],
      "text/plain": [
       "   x  y  z  i\n",
       "0  1  1  1  1\n",
       "1  1  1  1  2\n",
       "2  2  2  2  3\n",
       "3  3  3  2  4\n",
       "4  4  4  3  5\n",
       "5  5  4  3  6"
      ]
     },
     "execution_count": 8,
     "metadata": {},
     "output_type": "execute_result"
    }
   ],
   "source": [
    "df = pd.DataFrame({\"x\":[1,1,2,3,4,5],\"y\":[1,1,2,3,4,4],\n",
    "                   \"z\":[1,1,2,2,3,3,],\"i\":[1,2,3,4,5,6]})\n",
    "df"
   ]
  },
  {
   "cell_type": "code",
   "execution_count": 9,
   "id": "c9a8c5ec-c2cb-45ff-81a5-f82bdc7585ce",
   "metadata": {},
   "outputs": [
    {
     "data": {
      "text/plain": [
       "0    1\n",
       "Name: x, dtype: int64"
      ]
     },
     "execution_count": 9,
     "metadata": {},
     "output_type": "execute_result"
    }
   ],
   "source": [
    "df[\"x\"].mode()          #unimodal data"
   ]
  },
  {
   "cell_type": "code",
   "execution_count": 10,
   "id": "9fff22aa-07a9-446f-bd9b-8ed3a41415f9",
   "metadata": {},
   "outputs": [
    {
     "data": {
      "text/plain": [
       "0    1\n",
       "1    4\n",
       "Name: y, dtype: int64"
      ]
     },
     "execution_count": 10,
     "metadata": {},
     "output_type": "execute_result"
    }
   ],
   "source": [
    "df[\"y\"].mode()          #bimodal data"
   ]
  },
  {
   "cell_type": "code",
   "execution_count": 11,
   "id": "c5ca9964-a7f9-4136-9091-7635555d632d",
   "metadata": {},
   "outputs": [
    {
     "data": {
      "text/plain": [
       "0    1\n",
       "1    2\n",
       "2    3\n",
       "Name: z, dtype: int64"
      ]
     },
     "execution_count": 11,
     "metadata": {},
     "output_type": "execute_result"
    }
   ],
   "source": [
    "df[\"z\"].mode()          #multimodal data"
   ]
  },
  {
   "cell_type": "code",
   "execution_count": 12,
   "id": "4a24adc1-696f-4e7e-b530-36d0afb1e20e",
   "metadata": {},
   "outputs": [
    {
     "data": {
      "text/plain": [
       "0    1\n",
       "1    2\n",
       "2    3\n",
       "3    4\n",
       "4    5\n",
       "5    6\n",
       "Name: i, dtype: int64"
      ]
     },
     "execution_count": 12,
     "metadata": {},
     "output_type": "execute_result"
    }
   ],
   "source": [
    "df[\"i\"].mode()"
   ]
  },
  {
   "cell_type": "markdown",
   "id": "b9e58ac3-e8ef-4b23-bc80-899b04559774",
   "metadata": {},
   "source": [
    "# Measures of Dispersion"
   ]
  },
  {
   "cell_type": "code",
   "execution_count": 13,
   "id": "5ddeabbb-0069-4994-a8dc-9695359c8e7a",
   "metadata": {},
   "outputs": [
    {
     "data": {
      "text/html": [
       "<div>\n",
       "<style scoped>\n",
       "    .dataframe tbody tr th:only-of-type {\n",
       "        vertical-align: middle;\n",
       "    }\n",
       "\n",
       "    .dataframe tbody tr th {\n",
       "        vertical-align: top;\n",
       "    }\n",
       "\n",
       "    .dataframe thead th {\n",
       "        text-align: right;\n",
       "    }\n",
       "</style>\n",
       "<table border=\"1\" class=\"dataframe\">\n",
       "  <thead>\n",
       "    <tr style=\"text-align: right;\">\n",
       "      <th></th>\n",
       "      <th>x</th>\n",
       "    </tr>\n",
       "  </thead>\n",
       "  <tbody>\n",
       "    <tr>\n",
       "      <th>0</th>\n",
       "      <td>1</td>\n",
       "    </tr>\n",
       "    <tr>\n",
       "      <th>1</th>\n",
       "      <td>2</td>\n",
       "    </tr>\n",
       "    <tr>\n",
       "      <th>2</th>\n",
       "      <td>3</td>\n",
       "    </tr>\n",
       "    <tr>\n",
       "      <th>3</th>\n",
       "      <td>4</td>\n",
       "    </tr>\n",
       "    <tr>\n",
       "      <th>4</th>\n",
       "      <td>5</td>\n",
       "    </tr>\n",
       "  </tbody>\n",
       "</table>\n",
       "</div>"
      ],
      "text/plain": [
       "   x\n",
       "0  1\n",
       "1  2\n",
       "2  3\n",
       "3  4\n",
       "4  5"
      ]
     },
     "execution_count": 13,
     "metadata": {},
     "output_type": "execute_result"
    }
   ],
   "source": [
    "df = pd.DataFrame({\"x\":[1,2,3,4,5]})\n",
    "df"
   ]
  },
  {
   "cell_type": "markdown",
   "id": "5ca7d82e-e6a1-4f1e-8f1e-000f1c7456a2",
   "metadata": {},
   "source": [
    "**Minimum**"
   ]
  },
  {
   "cell_type": "code",
   "execution_count": 14,
   "id": "300d501b-a52a-4572-b793-d57a70af3a19",
   "metadata": {},
   "outputs": [
    {
     "data": {
      "text/plain": [
       "1"
      ]
     },
     "execution_count": 14,
     "metadata": {},
     "output_type": "execute_result"
    }
   ],
   "source": [
    "df[\"x\"].min()"
   ]
  },
  {
   "cell_type": "markdown",
   "id": "b3338052-d4e3-4dc4-8992-bc10201878ff",
   "metadata": {},
   "source": [
    "**Maximum**"
   ]
  },
  {
   "cell_type": "code",
   "execution_count": 15,
   "id": "de4fa133-0fdc-4d87-b0d2-adabaa4d8f3b",
   "metadata": {},
   "outputs": [
    {
     "data": {
      "text/plain": [
       "5"
      ]
     },
     "execution_count": 15,
     "metadata": {},
     "output_type": "execute_result"
    }
   ],
   "source": [
    "df[\"x\"].max()"
   ]
  },
  {
   "cell_type": "markdown",
   "id": "b9da032c-71ac-4cb7-93b0-584637882bf3",
   "metadata": {},
   "source": [
    "**Range**"
   ]
  },
  {
   "cell_type": "markdown",
   "id": "18fb8cb7-8dec-4f3c-bd22-406ec9a44524",
   "metadata": {},
   "source": [
    "- Range = Maximum value - minimum value"
   ]
  },
  {
   "cell_type": "code",
   "execution_count": 16,
   "id": "6a1fbe19-4767-4710-ad96-b1dfa164b74d",
   "metadata": {},
   "outputs": [
    {
     "data": {
      "text/plain": [
       "4"
      ]
     },
     "execution_count": 16,
     "metadata": {},
     "output_type": "execute_result"
    }
   ],
   "source": [
    "df[\"x\"].max()-df[\"x\"].min()"
   ]
  },
  {
   "cell_type": "markdown",
   "id": "8c40de2c-3806-40a5-90aa-fd798932a731",
   "metadata": {},
   "source": [
    "**Deviation (X-μ)**"
   ]
  },
  {
   "cell_type": "markdown",
   "id": "141a52da-4c09-4081-92a1-bccecb42aacb",
   "metadata": {},
   "source": [
    "- Deviation = Data deviated from the mean = how dispersed the data is from the central value"
   ]
  },
  {
   "cell_type": "code",
   "execution_count": 17,
   "id": "f31aae33-745f-4288-aa95-665252a2a166",
   "metadata": {},
   "outputs": [
    {
     "data": {
      "text/html": [
       "<div>\n",
       "<style scoped>\n",
       "    .dataframe tbody tr th:only-of-type {\n",
       "        vertical-align: middle;\n",
       "    }\n",
       "\n",
       "    .dataframe tbody tr th {\n",
       "        vertical-align: top;\n",
       "    }\n",
       "\n",
       "    .dataframe thead th {\n",
       "        text-align: right;\n",
       "    }\n",
       "</style>\n",
       "<table border=\"1\" class=\"dataframe\">\n",
       "  <thead>\n",
       "    <tr style=\"text-align: right;\">\n",
       "      <th></th>\n",
       "      <th>x</th>\n",
       "      <th>x-μ</th>\n",
       "    </tr>\n",
       "  </thead>\n",
       "  <tbody>\n",
       "    <tr>\n",
       "      <th>0</th>\n",
       "      <td>1</td>\n",
       "      <td>-2.0</td>\n",
       "    </tr>\n",
       "    <tr>\n",
       "      <th>1</th>\n",
       "      <td>2</td>\n",
       "      <td>-1.0</td>\n",
       "    </tr>\n",
       "    <tr>\n",
       "      <th>2</th>\n",
       "      <td>3</td>\n",
       "      <td>0.0</td>\n",
       "    </tr>\n",
       "    <tr>\n",
       "      <th>3</th>\n",
       "      <td>4</td>\n",
       "      <td>1.0</td>\n",
       "    </tr>\n",
       "    <tr>\n",
       "      <th>4</th>\n",
       "      <td>5</td>\n",
       "      <td>2.0</td>\n",
       "    </tr>\n",
       "  </tbody>\n",
       "</table>\n",
       "</div>"
      ],
      "text/plain": [
       "   x  x-μ\n",
       "0  1 -2.0\n",
       "1  2 -1.0\n",
       "2  3  0.0\n",
       "3  4  1.0\n",
       "4  5  2.0"
      ]
     },
     "execution_count": 17,
     "metadata": {},
     "output_type": "execute_result"
    }
   ],
   "source": [
    "df[\"x-μ\"] = df[\"x\"] - df[\"x\"].mean()\n",
    "df"
   ]
  },
  {
   "cell_type": "code",
   "execution_count": 18,
   "id": "dc6e9b0a-006b-46b4-84d6-a685cd786f98",
   "metadata": {},
   "outputs": [
    {
     "data": {
      "text/html": [
       "<div>\n",
       "<style scoped>\n",
       "    .dataframe tbody tr th:only-of-type {\n",
       "        vertical-align: middle;\n",
       "    }\n",
       "\n",
       "    .dataframe tbody tr th {\n",
       "        vertical-align: top;\n",
       "    }\n",
       "\n",
       "    .dataframe thead th {\n",
       "        text-align: right;\n",
       "    }\n",
       "</style>\n",
       "<table border=\"1\" class=\"dataframe\">\n",
       "  <thead>\n",
       "    <tr style=\"text-align: right;\">\n",
       "      <th></th>\n",
       "      <th>x</th>\n",
       "      <th>x-μ</th>\n",
       "      <th>(x-μ)**2</th>\n",
       "    </tr>\n",
       "  </thead>\n",
       "  <tbody>\n",
       "    <tr>\n",
       "      <th>0</th>\n",
       "      <td>1</td>\n",
       "      <td>-2.0</td>\n",
       "      <td>4.0</td>\n",
       "    </tr>\n",
       "    <tr>\n",
       "      <th>1</th>\n",
       "      <td>2</td>\n",
       "      <td>-1.0</td>\n",
       "      <td>1.0</td>\n",
       "    </tr>\n",
       "    <tr>\n",
       "      <th>2</th>\n",
       "      <td>3</td>\n",
       "      <td>0.0</td>\n",
       "      <td>0.0</td>\n",
       "    </tr>\n",
       "    <tr>\n",
       "      <th>3</th>\n",
       "      <td>4</td>\n",
       "      <td>1.0</td>\n",
       "      <td>1.0</td>\n",
       "    </tr>\n",
       "    <tr>\n",
       "      <th>4</th>\n",
       "      <td>5</td>\n",
       "      <td>2.0</td>\n",
       "      <td>4.0</td>\n",
       "    </tr>\n",
       "  </tbody>\n",
       "</table>\n",
       "</div>"
      ],
      "text/plain": [
       "   x  x-μ  (x-μ)**2\n",
       "0  1 -2.0       4.0\n",
       "1  2 -1.0       1.0\n",
       "2  3  0.0       0.0\n",
       "3  4  1.0       1.0\n",
       "4  5  2.0       4.0"
      ]
     },
     "execution_count": 18,
     "metadata": {},
     "output_type": "execute_result"
    }
   ],
   "source": [
    "df[\"(x-μ)**2\"] = df[\"x-μ\"]**2\n",
    "df"
   ]
  },
  {
   "cell_type": "code",
   "execution_count": 19,
   "id": "6562dd23-5b3b-4035-bf70-cb6d4a5d1444",
   "metadata": {},
   "outputs": [
    {
     "data": {
      "text/plain": [
       "2.0"
      ]
     },
     "execution_count": 19,
     "metadata": {},
     "output_type": "execute_result"
    }
   ],
   "source": [
    "var= df[\"(x-μ)**2\"].mean()\n",
    "var"
   ]
  },
  {
   "cell_type": "code",
   "execution_count": 20,
   "id": "90e0a3ef-8c34-425c-ade0-9e9370fd6d51",
   "metadata": {},
   "outputs": [
    {
     "data": {
      "text/plain": [
       "2.0"
      ]
     },
     "execution_count": 20,
     "metadata": {},
     "output_type": "execute_result"
    }
   ],
   "source": [
    "#population variance(σ2)\n",
    "df[\"x\"].var(ddof=0)"
   ]
  },
  {
   "cell_type": "code",
   "execution_count": 21,
   "id": "ba0abe4d-a435-4498-91ca-15137f165bf7",
   "metadata": {},
   "outputs": [
    {
     "data": {
      "text/plain": [
       "2.5"
      ]
     },
     "execution_count": 21,
     "metadata": {},
     "output_type": "execute_result"
    }
   ],
   "source": [
    "#Sample variance(s**2)\n",
    "df[\"x\"].var(ddof=1)"
   ]
  },
  {
   "cell_type": "code",
   "execution_count": 22,
   "id": "e2a18891-1426-4317-ad00-44a65b40f099",
   "metadata": {},
   "outputs": [
    {
     "data": {
      "text/plain": [
       "1.4142135623730951"
      ]
     },
     "execution_count": 22,
     "metadata": {},
     "output_type": "execute_result"
    }
   ],
   "source": [
    "#population std deviation\n",
    "df[\"x\"].std(ddof=0)"
   ]
  },
  {
   "cell_type": "code",
   "execution_count": 23,
   "id": "8484a08c-6bf5-4c03-b92c-5ea87b756fe4",
   "metadata": {},
   "outputs": [
    {
     "data": {
      "text/plain": [
       "1.5811388300841898"
      ]
     },
     "execution_count": 23,
     "metadata": {},
     "output_type": "execute_result"
    }
   ],
   "source": [
    "#sample std deviation\n",
    "df[\"x\"].std(ddof=1)"
   ]
  },
  {
   "cell_type": "markdown",
   "id": "1ef7abb6-cc1a-48d6-997f-98ccb8e9f121",
   "metadata": {},
   "source": [
    "**Coefficient of variation**"
   ]
  },
  {
   "cell_type": "markdown",
   "id": "49b3c357-24ca-4bc0-8f41-efeb72fe6c79",
   "metadata": {},
   "source": [
    "standard deviation / mean *100"
   ]
  },
  {
   "cell_type": "code",
   "execution_count": 24,
   "id": "424d27b5-cec8-47b9-9d98-23f7fb4b0690",
   "metadata": {},
   "outputs": [
    {
     "data": {
      "text/plain": [
       "0.47140452079103173"
      ]
     },
     "execution_count": 24,
     "metadata": {},
     "output_type": "execute_result"
    }
   ],
   "source": [
    "df[\"x\"].std(ddof=0)/df[\"x\"].mean()"
   ]
  },
  {
   "cell_type": "markdown",
   "id": "decbeadc-6009-4064-b27e-7ff7e72b6af4",
   "metadata": {},
   "source": [
    "**Percentile**"
   ]
  },
  {
   "cell_type": "code",
   "execution_count": 18,
   "id": "20b7fcb8-c6cc-44ec-ab9b-79127a9bd283",
   "metadata": {},
   "outputs": [
    {
     "data": {
      "text/html": [
       "<div>\n",
       "<style scoped>\n",
       "    .dataframe tbody tr th:only-of-type {\n",
       "        vertical-align: middle;\n",
       "    }\n",
       "\n",
       "    .dataframe tbody tr th {\n",
       "        vertical-align: top;\n",
       "    }\n",
       "\n",
       "    .dataframe thead th {\n",
       "        text-align: right;\n",
       "    }\n",
       "</style>\n",
       "<table border=\"1\" class=\"dataframe\">\n",
       "  <thead>\n",
       "    <tr style=\"text-align: right;\">\n",
       "      <th></th>\n",
       "      <th>X</th>\n",
       "    </tr>\n",
       "  </thead>\n",
       "  <tbody>\n",
       "    <tr>\n",
       "      <th>0</th>\n",
       "      <td>10</td>\n",
       "    </tr>\n",
       "    <tr>\n",
       "      <th>1</th>\n",
       "      <td>11</td>\n",
       "    </tr>\n",
       "    <tr>\n",
       "      <th>2</th>\n",
       "      <td>12</td>\n",
       "    </tr>\n",
       "    <tr>\n",
       "      <th>3</th>\n",
       "      <td>25</td>\n",
       "    </tr>\n",
       "    <tr>\n",
       "      <th>4</th>\n",
       "      <td>25</td>\n",
       "    </tr>\n",
       "    <tr>\n",
       "      <th>5</th>\n",
       "      <td>27</td>\n",
       "    </tr>\n",
       "    <tr>\n",
       "      <th>6</th>\n",
       "      <td>31</td>\n",
       "    </tr>\n",
       "    <tr>\n",
       "      <th>7</th>\n",
       "      <td>33</td>\n",
       "    </tr>\n",
       "    <tr>\n",
       "      <th>8</th>\n",
       "      <td>34</td>\n",
       "    </tr>\n",
       "    <tr>\n",
       "      <th>9</th>\n",
       "      <td>34</td>\n",
       "    </tr>\n",
       "    <tr>\n",
       "      <th>10</th>\n",
       "      <td>36</td>\n",
       "    </tr>\n",
       "    <tr>\n",
       "      <th>11</th>\n",
       "      <td>36</td>\n",
       "    </tr>\n",
       "    <tr>\n",
       "      <th>12</th>\n",
       "      <td>43</td>\n",
       "    </tr>\n",
       "    <tr>\n",
       "      <th>13</th>\n",
       "      <td>50</td>\n",
       "    </tr>\n",
       "    <tr>\n",
       "      <th>14</th>\n",
       "      <td>59</td>\n",
       "    </tr>\n",
       "  </tbody>\n",
       "</table>\n",
       "</div>"
      ],
      "text/plain": [
       "     X\n",
       "0   10\n",
       "1   11\n",
       "2   12\n",
       "3   25\n",
       "4   25\n",
       "5   27\n",
       "6   31\n",
       "7   33\n",
       "8   34\n",
       "9   34\n",
       "10  36\n",
       "11  36\n",
       "12  43\n",
       "13  50\n",
       "14  59"
      ]
     },
     "execution_count": 18,
     "metadata": {},
     "output_type": "execute_result"
    }
   ],
   "source": [
    "df = pd.DataFrame({\"X\":[10,11,12,25,25,27,31,33,34,34,36,36,43,50,59]})\n",
    "df"
   ]
  },
  {
   "cell_type": "code",
   "execution_count": 21,
   "id": "b3c91b6b-2e30-4ab0-b18f-4f80f87f4ecc",
   "metadata": {},
   "outputs": [
    {
     "data": {
      "text/plain": [
       "10.0"
      ]
     },
     "execution_count": 21,
     "metadata": {},
     "output_type": "execute_result"
    }
   ],
   "source": [
    "# 0 percentile or minimum\n",
    "df[\"X\"].quantile(0)"
   ]
  },
  {
   "cell_type": "code",
   "execution_count": 22,
   "id": "639da4d2-0d44-466d-84a0-8af8e31932cd",
   "metadata": {},
   "outputs": [
    {
     "data": {
      "text/plain": [
       "25.0"
      ]
     },
     "execution_count": 22,
     "metadata": {},
     "output_type": "execute_result"
    }
   ],
   "source": [
    "# 25 percentile (Q1)\n",
    "Q1 = df[\"X\"].quantile(0.25)\n",
    "Q1"
   ]
  },
  {
   "cell_type": "code",
   "execution_count": 23,
   "id": "20f4bc02-1532-4bdd-aa50-c7d9bd4e3715",
   "metadata": {},
   "outputs": [
    {
     "data": {
      "text/plain": [
       "33.0"
      ]
     },
     "execution_count": 23,
     "metadata": {},
     "output_type": "execute_result"
    }
   ],
   "source": [
    "# 50 percentile (Q2)\n",
    "Q2 = df[\"X\"].quantile(0.50)\n",
    "Q2"
   ]
  },
  {
   "cell_type": "code",
   "execution_count": 24,
   "id": "d2f24184-551e-460b-b9f2-a98339fda49a",
   "metadata": {},
   "outputs": [
    {
     "data": {
      "text/plain": [
       "36.0"
      ]
     },
     "execution_count": 24,
     "metadata": {},
     "output_type": "execute_result"
    }
   ],
   "source": [
    "# 75 percentile (Q3)\n",
    "Q3 = df[\"X\"].quantile(0.75)\n",
    "Q3"
   ]
  },
  {
   "cell_type": "code",
   "execution_count": 25,
   "id": "0a19e7dc-20bb-447b-acff-9d6deebeb055",
   "metadata": {},
   "outputs": [
    {
     "data": {
      "text/plain": [
       "59.0"
      ]
     },
     "execution_count": 25,
     "metadata": {},
     "output_type": "execute_result"
    }
   ],
   "source": [
    "# 100 percentile or maximum\n",
    "df[\"X\"].quantile(1)"
   ]
  },
  {
   "cell_type": "code",
   "execution_count": 26,
   "id": "73ebb8fb-62e7-4206-a358-25a7b2bdb1d0",
   "metadata": {},
   "outputs": [
    {
     "data": {
      "text/plain": [
       "0.00    10.0\n",
       "0.25    25.0\n",
       "0.50    33.0\n",
       "0.75    36.0\n",
       "1.00    59.0\n",
       "Name: X, dtype: float64"
      ]
     },
     "execution_count": 26,
     "metadata": {},
     "output_type": "execute_result"
    }
   ],
   "source": [
    "df[\"X\"].quantile([0,0.25,0.50,0.75,1])"
   ]
  },
  {
   "cell_type": "markdown",
   "id": "45b18e45-bdd4-4923-970e-01d071027f22",
   "metadata": {},
   "source": [
    "**Inter Quartile Range**"
   ]
  },
  {
   "cell_type": "code",
   "execution_count": 27,
   "id": "593bf9a4-d3fd-4de3-9efa-6804fab606bc",
   "metadata": {},
   "outputs": [
    {
     "data": {
      "text/plain": [
       "11.0"
      ]
     },
     "execution_count": 27,
     "metadata": {},
     "output_type": "execute_result"
    }
   ],
   "source": [
    "IQR = Q3 - Q1\n",
    "IQR"
   ]
  },
  {
   "cell_type": "markdown",
   "id": "979978aa-8bd8-41d1-832d-f9929b4c2f8a",
   "metadata": {},
   "source": [
    "**Lower limit**"
   ]
  },
  {
   "cell_type": "code",
   "execution_count": 31,
   "id": "e84229ae-f937-4f33-8a3c-5083f8b3f9a2",
   "metadata": {},
   "outputs": [
    {
     "data": {
      "text/plain": [
       "8.5"
      ]
     },
     "execution_count": 31,
     "metadata": {},
     "output_type": "execute_result"
    }
   ],
   "source": [
    "ll = Q1 - (1.5 * IQR)\n",
    "ll"
   ]
  },
  {
   "cell_type": "markdown",
   "id": "b6b7832a-8bda-4e0c-a018-43d406853437",
   "metadata": {},
   "source": [
    "**Upper limit**"
   ]
  },
  {
   "cell_type": "code",
   "execution_count": 32,
   "id": "393c847b-5930-47a5-978d-8afac6c1b8b4",
   "metadata": {},
   "outputs": [
    {
     "data": {
      "text/plain": [
       "52.5"
      ]
     },
     "execution_count": 32,
     "metadata": {},
     "output_type": "execute_result"
    }
   ],
   "source": [
    "ul = Q3 + (1.5 * IQR)\n",
    "ul"
   ]
  },
  {
   "cell_type": "markdown",
   "id": "b2683e96-730c-42cc-aa33-94886f711c1c",
   "metadata": {},
   "source": [
    "# Outlier"
   ]
  },
  {
   "cell_type": "markdown",
   "id": "759b8184-a556-4b0b-b573-4893d8c8264f",
   "metadata": {},
   "source": [
    "- A Data value that is numerically distant from a data set"
   ]
  },
  {
   "cell_type": "markdown",
   "id": "92062194-6b2d-43d4-8092-906eda79886e",
   "metadata": {},
   "source": [
    "- A data value considered to be an outlier ,if\n",
    "- data value < lower limit(Q1 - 1.5*IQR)\n",
    "- data value > upper limit(Q3 + 1.5*IQR)"
   ]
  },
  {
   "cell_type": "markdown",
   "id": "9a1b648a-9638-43ab-a22b-da03ae9aaa3d",
   "metadata": {},
   "source": [
    "**for checking outliers we use boxplot by using matplotlib**"
   ]
  },
  {
   "cell_type": "code",
   "execution_count": 35,
   "id": "34cc49a0-f7e8-4ee1-b2ea-c4b447946e0b",
   "metadata": {},
   "outputs": [
    {
     "data": {
      "image/png": "[encoded data removed]",
      "text/plain": [
       "<Figure size 640x480 with 1 Axes>"
      ]
     },
     "metadata": {},
     "output_type": "display_data"
    }
   ],
   "source": [
    "plt.boxplot(df[\"X\"])\n",
    "plt.show()                #with matplotlib      "
   ]
  },
  {
   "cell_type": "code",
   "execution_count": 36,
   "id": "5d888b7c-7209-4902-8e18-005f461ee8d8",
   "metadata": {},
   "outputs": [
    {
     "data": {
      "image/png": "[encoded data removed]",
      "text/plain": [
       "<Figure size 640x480 with 1 Axes>"
      ]
     },
     "metadata": {},
     "output_type": "display_data"
    }
   ],
   "source": [
    "sns.boxplot(df[\"X\"])\n",
    "plt.show()             # by using seaborn "
   ]
  },
  {
   "cell_type": "code",
   "execution_count": 37,
   "id": "2576fccb-e94c-4928-96b0-ace1e6f5b0c8",
   "metadata": {},
   "outputs": [
    {
     "data": {
      "image/png": "[encoded data removed]",
      "text/plain": [
       "<Figure size 640x480 with 1 Axes>"
      ]
     },
     "metadata": {},
     "output_type": "display_data"
    }
   ],
   "source": [
    "sns.boxplot(x=df[\"X\"])\n",
    "plt.show()                   # by using seaborn"
   ]
  },
  {
   "cell_type": "markdown",
   "id": "ce5520ae-9c90-49ae-b7b7-cc8152777018",
   "metadata": {},
   "source": [
    "**To  extract outliers data**"
   ]
  },
  {
   "cell_type": "code",
   "execution_count": 33,
   "id": "58e3ff40-dc5f-4d26-b506-7855a223c4f8",
   "metadata": {},
   "outputs": [
    {
     "data": {
      "text/html": [
       "<div>\n",
       "<style scoped>\n",
       "    .dataframe tbody tr th:only-of-type {\n",
       "        vertical-align: middle;\n",
       "    }\n",
       "\n",
       "    .dataframe tbody tr th {\n",
       "        vertical-align: top;\n",
       "    }\n",
       "\n",
       "    .dataframe thead th {\n",
       "        text-align: right;\n",
       "    }\n",
       "</style>\n",
       "<table border=\"1\" class=\"dataframe\">\n",
       "  <thead>\n",
       "    <tr style=\"text-align: right;\">\n",
       "      <th></th>\n",
       "      <th>X</th>\n",
       "    </tr>\n",
       "  </thead>\n",
       "  <tbody>\n",
       "    <tr>\n",
       "      <th>14</th>\n",
       "      <td>59</td>\n",
       "    </tr>\n",
       "  </tbody>\n",
       "</table>\n",
       "</div>"
      ],
      "text/plain": [
       "     X\n",
       "14  59"
      ]
     },
     "execution_count": 33,
     "metadata": {},
     "output_type": "execute_result"
    }
   ],
   "source": [
    "df[(df[\"X\"]<ll) | (df[\"X\"]>ul)]"
   ]
  },
  {
   "cell_type": "code",
   "execution_count": 34,
   "id": "bac541e6-3fe2-4b1a-a999-0f703b66f129",
   "metadata": {},
   "outputs": [
    {
     "data": {
      "text/html": [
       "<div>\n",
       "<style scoped>\n",
       "    .dataframe tbody tr th:only-of-type {\n",
       "        vertical-align: middle;\n",
       "    }\n",
       "\n",
       "    .dataframe tbody tr th {\n",
       "        vertical-align: top;\n",
       "    }\n",
       "\n",
       "    .dataframe thead th {\n",
       "        text-align: right;\n",
       "    }\n",
       "</style>\n",
       "<table border=\"1\" class=\"dataframe\">\n",
       "  <thead>\n",
       "    <tr style=\"text-align: right;\">\n",
       "      <th></th>\n",
       "      <th>X</th>\n",
       "    </tr>\n",
       "  </thead>\n",
       "  <tbody>\n",
       "    <tr>\n",
       "      <th>14</th>\n",
       "      <td>59</td>\n",
       "    </tr>\n",
       "  </tbody>\n",
       "</table>\n",
       "</div>"
      ],
      "text/plain": [
       "     X\n",
       "14  59"
      ]
     },
     "execution_count": 34,
     "metadata": {},
     "output_type": "execute_result"
    }
   ],
   "source": [
    "df[(df[\"X\"]<8.5) | (df[\"X\"]>52.5)]"
   ]
  },
  {
   "cell_type": "markdown",
   "id": "dbd64220-287a-4447-abd1-5abcf4a1175f",
   "metadata": {},
   "source": [
    "# Probability"
   ]
  },
  {
   "cell_type": "markdown",
   "id": "9c13dda0-5c79-41ef-9079-f59bec16b9c9",
   "metadata": {},
   "source": [
    "- Chance of occurence\n",
    "- probability(Requirement) = No.of value satisfies your requirement/total no.of values\n",
    "- Always probability value lies between 0 to 1\n",
    "- sum of all the probabilities = 1"
   ]
  },
  {
   "cell_type": "code",
   "execution_count": 7,
   "id": "978c8820-079f-44ea-9a62-1c4450f7c8bb",
   "metadata": {},
   "outputs": [
    {
     "data": {
      "text/html": [
       "<div>\n",
       "<style scoped>\n",
       "    .dataframe tbody tr th:only-of-type {\n",
       "        vertical-align: middle;\n",
       "    }\n",
       "\n",
       "    .dataframe tbody tr th {\n",
       "        vertical-align: top;\n",
       "    }\n",
       "\n",
       "    .dataframe thead th {\n",
       "        text-align: right;\n",
       "    }\n",
       "</style>\n",
       "<table border=\"1\" class=\"dataframe\">\n",
       "  <thead>\n",
       "    <tr style=\"text-align: right;\">\n",
       "      <th></th>\n",
       "      <th>Gender</th>\n",
       "      <th>Marks</th>\n",
       "      <th>no_of_assignments</th>\n",
       "    </tr>\n",
       "  </thead>\n",
       "  <tbody>\n",
       "    <tr>\n",
       "      <th>0</th>\n",
       "      <td>F</td>\n",
       "      <td>30</td>\n",
       "      <td>1</td>\n",
       "    </tr>\n",
       "    <tr>\n",
       "      <th>1</th>\n",
       "      <td>F</td>\n",
       "      <td>41</td>\n",
       "      <td>1</td>\n",
       "    </tr>\n",
       "    <tr>\n",
       "      <th>2</th>\n",
       "      <td>F</td>\n",
       "      <td>42</td>\n",
       "      <td>1</td>\n",
       "    </tr>\n",
       "    <tr>\n",
       "      <th>3</th>\n",
       "      <td>F</td>\n",
       "      <td>51</td>\n",
       "      <td>1</td>\n",
       "    </tr>\n",
       "    <tr>\n",
       "      <th>4</th>\n",
       "      <td>M</td>\n",
       "      <td>52</td>\n",
       "      <td>2</td>\n",
       "    </tr>\n",
       "    <tr>\n",
       "      <th>5</th>\n",
       "      <td>M</td>\n",
       "      <td>53</td>\n",
       "      <td>2</td>\n",
       "    </tr>\n",
       "    <tr>\n",
       "      <th>6</th>\n",
       "      <td>F</td>\n",
       "      <td>61</td>\n",
       "      <td>2</td>\n",
       "    </tr>\n",
       "    <tr>\n",
       "      <th>7</th>\n",
       "      <td>M</td>\n",
       "      <td>62</td>\n",
       "      <td>3</td>\n",
       "    </tr>\n",
       "    <tr>\n",
       "      <th>8</th>\n",
       "      <td>F</td>\n",
       "      <td>68</td>\n",
       "      <td>3</td>\n",
       "    </tr>\n",
       "    <tr>\n",
       "      <th>9</th>\n",
       "      <td>F</td>\n",
       "      <td>69</td>\n",
       "      <td>3</td>\n",
       "    </tr>\n",
       "    <tr>\n",
       "      <th>10</th>\n",
       "      <td>F</td>\n",
       "      <td>77</td>\n",
       "      <td>3</td>\n",
       "    </tr>\n",
       "    <tr>\n",
       "      <th>11</th>\n",
       "      <td>F</td>\n",
       "      <td>78</td>\n",
       "      <td>3</td>\n",
       "    </tr>\n",
       "    <tr>\n",
       "      <th>12</th>\n",
       "      <td>M</td>\n",
       "      <td>79</td>\n",
       "      <td>4</td>\n",
       "    </tr>\n",
       "    <tr>\n",
       "      <th>13</th>\n",
       "      <td>M</td>\n",
       "      <td>88</td>\n",
       "      <td>4</td>\n",
       "    </tr>\n",
       "    <tr>\n",
       "      <th>14</th>\n",
       "      <td>F</td>\n",
       "      <td>89</td>\n",
       "      <td>4</td>\n",
       "    </tr>\n",
       "    <tr>\n",
       "      <th>15</th>\n",
       "      <td>M</td>\n",
       "      <td>100</td>\n",
       "      <td>4</td>\n",
       "    </tr>\n",
       "  </tbody>\n",
       "</table>\n",
       "</div>"
      ],
      "text/plain": [
       "   Gender  Marks  no_of_assignments\n",
       "0       F     30                  1\n",
       "1       F     41                  1\n",
       "2       F     42                  1\n",
       "3       F     51                  1\n",
       "4       M     52                  2\n",
       "5       M     53                  2\n",
       "6       F     61                  2\n",
       "7       M     62                  3\n",
       "8       F     68                  3\n",
       "9       F     69                  3\n",
       "10      F     77                  3\n",
       "11      F     78                  3\n",
       "12      M     79                  4\n",
       "13      M     88                  4\n",
       "14      F     89                  4\n",
       "15      M    100                  4"
      ]
     },
     "execution_count": 7,
     "metadata": {},
     "output_type": "execute_result"
    }
   ],
   "source": [
    "df = pd.DataFrame({\"Gender\": [\"F\",\"F\",\"F\",\"F\",\"M\",\"M\",\"F\",\"M\",\"F\",\"F\",\"F\",\"F\",\"M\",\"M\",\"F\",\"M\"],\n",
    "                   \"Marks\":[30,41,42,51,52,53,61,62,68,69,77,78,79,88,89,100],\n",
    "                   \"no_of_assignments\":[1,1,1,1,2,2,2,3,3,3,3,3,4,4,4,4]})\n",
    "df"
   ]
  },
  {
   "cell_type": "markdown",
   "id": "dbbc25fd-d8e0-4e5e-900e-7a1db0b63461",
   "metadata": {},
   "source": [
    "# Frequency distribution"
   ]
  },
  {
   "cell_type": "markdown",
   "id": "ea1d7021-125d-480e-9c02-fbeff173564e",
   "metadata": {},
   "source": [
    "- Graphical representation of variable with corresponding frequency"
   ]
  },
  {
   "cell_type": "markdown",
   "id": "ebbca04b-8caf-49b7-8b06-09e80e12d43c",
   "metadata": {},
   "source": [
    "**Discrete Frequency Distribution** : Graphical representation of Discrete variable with corresponding frequency"
   ]
  },
  {
   "cell_type": "code",
   "execution_count": 8,
   "id": "416cbe31-812d-4a48-b8b6-9d2ad60f181a",
   "metadata": {},
   "outputs": [
    {
     "data": {
      "text/plain": [
       "['F', 'M']"
      ]
     },
     "execution_count": 8,
     "metadata": {},
     "output_type": "execute_result"
    }
   ],
   "source": [
    "df[\"Gender\"].unique().tolist()"
   ]
  },
  {
   "cell_type": "code",
   "execution_count": 9,
   "id": "af10f405-d95a-4d24-ad0f-8daddd8dcd84",
   "metadata": {},
   "outputs": [
    {
     "data": {
      "text/plain": [
       "Gender\n",
       "F    10\n",
       "M     6\n",
       "Name: count, dtype: int64"
      ]
     },
     "execution_count": 9,
     "metadata": {},
     "output_type": "execute_result"
    }
   ],
   "source": [
    "df[\"Gender\"].value_counts()"
   ]
  },
  {
   "cell_type": "code",
   "execution_count": 10,
   "id": "0ad3d303-b072-4da3-9fef-320605355691",
   "metadata": {},
   "outputs": [
    {
     "data": {
      "text/plain": [
       "'0.13.2'"
      ]
     },
     "execution_count": 10,
     "metadata": {},
     "output_type": "execute_result"
    }
   ],
   "source": [
    "sns.__version__"
   ]
  },
  {
   "cell_type": "code",
   "execution_count": 11,
   "id": "97309c93-ae05-429e-b952-0ae83262f640",
   "metadata": {},
   "outputs": [
    {
     "name": "stdout",
     "output_type": "stream",
     "text": [
      "Requirement already satisfied: seaborn in c:\\users\\admin\\anaconda3\\lib\\site-packages (0.13.2)\n",
      "Requirement already satisfied: numpy!=1.24.0,>=1.20 in c:\\users\\admin\\anaconda3\\lib\\site-packages (from seaborn) (1.26.4)\n",
      "Requirement already satisfied: pandas>=1.2 in c:\\users\\admin\\anaconda3\\lib\\site-packages (from seaborn) (2.1.4)\n",
      "Requirement already satisfied: matplotlib!=3.6.1,>=3.4 in c:\\users\\admin\\anaconda3\\lib\\site-packages (from seaborn) (3.8.0)\n",
      "Requirement already satisfied: contourpy>=1.0.1 in c:\\users\\admin\\anaconda3\\lib\\site-packages (from matplotlib!=3.6.1,>=3.4->seaborn) (1.2.0)\n",
      "Requirement already satisfied: cycler>=0.10 in c:\\users\\admin\\anaconda3\\lib\\site-packages (from matplotlib!=3.6.1,>=3.4->seaborn) (0.11.0)\n",
      "Requirement already satisfied: fonttools>=4.22.0 in c:\\users\\admin\\anaconda3\\lib\\site-packages (from matplotlib!=3.6.1,>=3.4->seaborn) (4.25.0)\n",
      "Requirement already satisfied: kiwisolver>=1.0.1 in c:\\users\\admin\\anaconda3\\lib\\site-packages (from matplotlib!=3.6.1,>=3.4->seaborn) (1.4.4)\n",
      "Requirement already satisfied: packaging>=20.0 in c:\\users\\admin\\anaconda3\\lib\\site-packages (from matplotlib!=3.6.1,>=3.4->seaborn) (23.1)\n",
      "Requirement already satisfied: pillow>=6.2.0 in c:\\users\\admin\\anaconda3\\lib\\site-packages (from matplotlib!=3.6.1,>=3.4->seaborn) (10.2.0)\n",
      "Requirement already satisfied: pyparsing>=2.3.1 in c:\\users\\admin\\anaconda3\\lib\\site-packages (from matplotlib!=3.6.1,>=3.4->seaborn) (3.0.9)\n",
      "Requirement already satisfied: python-dateutil>=2.7 in c:\\users\\admin\\anaconda3\\lib\\site-packages (from matplotlib!=3.6.1,>=3.4->seaborn) (2.8.2)\n",
      "Requirement already satisfied: pytz>=2020.1 in c:\\users\\admin\\anaconda3\\lib\\site-packages (from pandas>=1.2->seaborn) (2023.3.post1)\n",
      "Requirement already satisfied: tzdata>=2022.1 in c:\\users\\admin\\anaconda3\\lib\\site-packages (from pandas>=1.2->seaborn) (2023.3)\n",
      "Requirement already satisfied: six>=1.5 in c:\\users\\admin\\anaconda3\\lib\\site-packages (from python-dateutil>=2.7->matplotlib!=3.6.1,>=3.4->seaborn) (1.16.0)\n",
      "Note: you may need to restart the kernel to use updated packages.\n"
     ]
    }
   ],
   "source": [
    "pip install seaborn --upgrade"
   ]
  },
  {
   "cell_type": "code",
   "execution_count": 12,
   "id": "63043078-d204-489c-9207-78a43024e823",
   "metadata": {},
   "outputs": [
    {
     "data": {
      "image/png": "[encoded data removed]",
      "text/plain": [
       "<Figure size 640x480 with 1 Axes>"
      ]
     },
     "metadata": {},
     "output_type": "display_data"
    }
   ],
   "source": [
    "sns.countplot(x=df[\"Gender\"],)\n",
    "plt.show()"
   ]
  },
  {
   "cell_type": "markdown",
   "id": "bc4978c5-fc4d-4f70-be96-066e9b44f294",
   "metadata": {},
   "source": [
    "**Continuous Frequency Distribution** : Graphical representation of continuous variable with corresponding frequency"
   ]
  },
  {
   "cell_type": "code",
   "execution_count": 13,
   "id": "803953c5-6f7d-4a84-9950-b5a706d7b6af",
   "metadata": {},
   "outputs": [],
   "source": [
    "import warnings\n",
    "warnings.filterwarnings(\"ignore\")"
   ]
  },
  {
   "cell_type": "code",
   "execution_count": 45,
   "id": "87159d06-40a9-49a7-8289-30ac1ae2063a",
   "metadata": {},
   "outputs": [
    {
     "data": {
      "image/png": "[encoded data removed]",
      "text/plain": [
       "<Figure size 640x480 with 1 Axes>"
      ]
     },
     "metadata": {},
     "output_type": "display_data"
    }
   ],
   "source": [
    "sns.histplot(x=df[\"Marks\"],bins=7,stat=\"count\")\n",
    "plt.show()"
   ]
  },
  {
   "cell_type": "markdown",
   "id": "d4b46973-c76b-44c1-86e0-60e1e78fbfa1",
   "metadata": {},
   "source": [
    "**Cumulative Frequency Distribution**"
   ]
  },
  {
   "cell_type": "code",
   "execution_count": 46,
   "id": "0c8176ea-5847-46e3-a14a-37f0de13eb04",
   "metadata": {},
   "outputs": [
    {
     "data": {
      "text/plain": [
       "<Axes: xlabel='Marks', ylabel='Count'>"
      ]
     },
     "execution_count": 46,
     "metadata": {},
     "output_type": "execute_result"
    },
    {
     "data": {
      "image/png": "[encoded data removed]",
      "text/plain": [
       "<Figure size 640x480 with 1 Axes>"
      ]
     },
     "metadata": {},
     "output_type": "display_data"
    }
   ],
   "source": [
    "sns.histplot(df[\"Marks\"],bins=7,stat=\"count\",cumulative=True)"
   ]
  },
  {
   "cell_type": "markdown",
   "id": "d1a198ac-23ed-4a73-8c6b-cfe994e6e24e",
   "metadata": {},
   "source": [
    "# probability distribution"
   ]
  },
  {
   "cell_type": "markdown",
   "id": "a316bd1e-13d3-408b-903a-44b00f96b235",
   "metadata": {},
   "source": [
    "- Graphical representation of variable & respective probabilities of variable"
   ]
  },
  {
   "cell_type": "markdown",
   "id": "b1dd225e-b040-4b58-8491-3473005cd6e3",
   "metadata": {},
   "source": [
    "**Discrete Probability distribution**: Graphical representation of discrete variable with corresponding probability"
   ]
  },
  {
   "cell_type": "code",
   "execution_count": 2,
   "id": "f9625075-647a-4ad1-8dcc-ed01e8a1e293",
   "metadata": {},
   "outputs": [],
   "source": [
    "import seaborn as sns"
   ]
  },
  {
   "cell_type": "code",
   "execution_count": 14,
   "id": "e05e069c-a46a-41e3-b1c5-228eb61f6574",
   "metadata": {},
   "outputs": [
    {
     "data": {
      "image/png": "[encoded data removed]",
      "text/plain": [
       "<Figure size 640x480 with 1 Axes>"
      ]
     },
     "metadata": {},
     "output_type": "display_data"
    }
   ],
   "source": [
    "sns.countplot(x=df[\"Gender\"],stat=\"probability\")\n",
    "plt.show()"
   ]
  },
  {
   "cell_type": "markdown",
   "id": "6e9fc185-5f0d-4be7-961d-d918e1b0f86e",
   "metadata": {},
   "source": [
    "**Continuous probability distribution**: Graphical representation of continuous variable with corresponding probability"
   ]
  },
  {
   "cell_type": "code",
   "execution_count": 48,
   "id": "1fdbf9ad-ce81-4f1b-80e0-4a4a1d73e939",
   "metadata": {
    "scrolled": true
   },
   "outputs": [
    {
     "data": {
      "image/png": "[encoded data removed]",
      "text/plain": [
       "<Figure size 640x480 with 1 Axes>"
      ]
     },
     "metadata": {},
     "output_type": "display_data"
    }
   ],
   "source": [
    "sns.histplot(df[\"Marks\"],bins=7,stat=\"probability\")\n",
    "plt.show()"
   ]
  },
  {
   "cell_type": "markdown",
   "id": "b2482e7e-9c81-46e3-a137-f482e86d0452",
   "metadata": {},
   "source": [
    "**Cumulative probability distribution**"
   ]
  },
  {
   "cell_type": "code",
   "execution_count": 15,
   "id": "129bcba7-45be-4c08-8354-0cfbc5b2ab25",
   "metadata": {},
   "outputs": [
    {
     "data": {
      "image/png": "[encoded data removed]",
      "text/plain": [
       "<Figure size 640x480 with 1 Axes>"
      ]
     },
     "metadata": {},
     "output_type": "display_data"
    }
   ],
   "source": [
    "sns.histplot(df[\"Marks\"],bins=7,stat=\"probability\",cumulative=True)\n",
    "plt.show()"
   ]
  },
  {
   "cell_type": "code",
   "execution_count": 16,
   "id": "2e7b39b5-5e06-4854-b3ed-d3f47a0bb511",
   "metadata": {},
   "outputs": [
    {
     "data": {
      "text/plain": [
       "'0.13.2'"
      ]
     },
     "execution_count": 16,
     "metadata": {},
     "output_type": "execute_result"
    }
   ],
   "source": [
    "sns.__version__"
   ]
  },
  {
   "cell_type": "markdown",
   "id": "ae2c8f69-d15b-4fba-b45d-b2a211223955",
   "metadata": {},
   "source": [
    "# Measure of shape (3rd Business moment)"
   ]
  },
  {
   "cell_type": "markdown",
   "id": "6e3005cc-6808-45b2-b946-ffa7fd767fff",
   "metadata": {},
   "source": [
    "**Skewness|**"
   ]
  },
  {
   "cell_type": "markdown",
   "id": "ad11f229-bea4-4077-8bfc-6acb73b8c360",
   "metadata": {},
   "source": [
    "- It tells, whether the data is symmetrical or unsymmetrical distribution\n",
    "- it describes asymmetry from the normal distribution\n",
    "- symmetrical distribution is called as **normal distribution**\n",
    "- Unsymmetrical distribution is known as **Skewed Distribution**"
   ]
  },
  {
   "cell_type": "code",
   "execution_count": 37,
   "id": "1cee0fcc-1255-4919-bedd-e1113a89d564",
   "metadata": {},
   "outputs": [
    {
     "data": {
      "text/html": [
       "<div>\n",
       "<style scoped>\n",
       "    .dataframe tbody tr th:only-of-type {\n",
       "        vertical-align: middle;\n",
       "    }\n",
       "\n",
       "    .dataframe tbody tr th {\n",
       "        vertical-align: top;\n",
       "    }\n",
       "\n",
       "    .dataframe thead th {\n",
       "        text-align: right;\n",
       "    }\n",
       "</style>\n",
       "<table border=\"1\" class=\"dataframe\">\n",
       "  <thead>\n",
       "    <tr style=\"text-align: right;\">\n",
       "      <th></th>\n",
       "      <th>X</th>\n",
       "    </tr>\n",
       "  </thead>\n",
       "  <tbody>\n",
       "    <tr>\n",
       "      <th>0</th>\n",
       "      <td>1</td>\n",
       "    </tr>\n",
       "    <tr>\n",
       "      <th>1</th>\n",
       "      <td>2</td>\n",
       "    </tr>\n",
       "    <tr>\n",
       "      <th>2</th>\n",
       "      <td>3</td>\n",
       "    </tr>\n",
       "    <tr>\n",
       "      <th>3</th>\n",
       "      <td>4</td>\n",
       "    </tr>\n",
       "    <tr>\n",
       "      <th>4</th>\n",
       "      <td>5</td>\n",
       "    </tr>\n",
       "  </tbody>\n",
       "</table>\n",
       "</div>"
      ],
      "text/plain": [
       "   X\n",
       "0  1\n",
       "1  2\n",
       "2  3\n",
       "3  4\n",
       "4  5"
      ]
     },
     "execution_count": 37,
     "metadata": {},
     "output_type": "execute_result"
    }
   ],
   "source": [
    "df = pd.DataFrame({\"X\":[1,2,3,4,5]})\n",
    "df"
   ]
  },
  {
   "cell_type": "code",
   "execution_count": 39,
   "id": "21caab48-9927-4d35-80ab-44b2f1628d09",
   "metadata": {},
   "outputs": [
    {
     "data": {
      "text/plain": [
       "0.0"
      ]
     },
     "execution_count": 39,
     "metadata": {},
     "output_type": "execute_result"
    }
   ],
   "source": [
    "df[\"X\"].skew()"
   ]
  },
  {
   "cell_type": "markdown",
   "id": "4a55c4a9-bd86-416a-8f52-eebbc18bc317",
   "metadata": {},
   "source": [
    "- if Skewness = 0 then it is **Perfect Symmetrical or Perfect normal distribution**\n",
    "- if Skewness < 0 then it is said to be **Negative Skewed or Left skewed distribution**\n",
    "- if Skewness > 0 then it is said to be **Positive skewed or Right skewed distribution**\n",
    "\n",
    "- -1<Skewness<+1 then it is called **Normal distribution**"
   ]
  },
  {
   "cell_type": "code",
   "execution_count": 2,
   "id": "29dc38b9-8dd9-4081-9665-51482d9e196b",
   "metadata": {},
   "outputs": [
    {
     "data": {
      "text/html": [
       "<div>\n",
       "<style scoped>\n",
       "    .dataframe tbody tr th:only-of-type {\n",
       "        vertical-align: middle;\n",
       "    }\n",
       "\n",
       "    .dataframe tbody tr th {\n",
       "        vertical-align: top;\n",
       "    }\n",
       "\n",
       "    .dataframe thead th {\n",
       "        text-align: right;\n",
       "    }\n",
       "</style>\n",
       "<table border=\"1\" class=\"dataframe\">\n",
       "  <thead>\n",
       "    <tr style=\"text-align: right;\">\n",
       "      <th></th>\n",
       "      <th>X</th>\n",
       "      <th>Y</th>\n",
       "      <th>Z</th>\n",
       "    </tr>\n",
       "  </thead>\n",
       "  <tbody>\n",
       "    <tr>\n",
       "      <th>0</th>\n",
       "      <td>0</td>\n",
       "      <td>0</td>\n",
       "      <td>0</td>\n",
       "    </tr>\n",
       "    <tr>\n",
       "      <th>1</th>\n",
       "      <td>11</td>\n",
       "      <td>11</td>\n",
       "      <td>11</td>\n",
       "    </tr>\n",
       "    <tr>\n",
       "      <th>2</th>\n",
       "      <td>12</td>\n",
       "      <td>12</td>\n",
       "      <td>12</td>\n",
       "    </tr>\n",
       "    <tr>\n",
       "      <th>3</th>\n",
       "      <td>21</td>\n",
       "      <td>21</td>\n",
       "      <td>21</td>\n",
       "    </tr>\n",
       "    <tr>\n",
       "      <th>4</th>\n",
       "      <td>22</td>\n",
       "      <td>22</td>\n",
       "      <td>22</td>\n",
       "    </tr>\n",
       "    <tr>\n",
       "      <th>5</th>\n",
       "      <td>23</td>\n",
       "      <td>23</td>\n",
       "      <td>23</td>\n",
       "    </tr>\n",
       "    <tr>\n",
       "      <th>6</th>\n",
       "      <td>31</td>\n",
       "      <td>24</td>\n",
       "      <td>34</td>\n",
       "    </tr>\n",
       "    <tr>\n",
       "      <th>7</th>\n",
       "      <td>32</td>\n",
       "      <td>28</td>\n",
       "      <td>38</td>\n",
       "    </tr>\n",
       "    <tr>\n",
       "      <th>8</th>\n",
       "      <td>38</td>\n",
       "      <td>29</td>\n",
       "      <td>49</td>\n",
       "    </tr>\n",
       "    <tr>\n",
       "      <th>9</th>\n",
       "      <td>39</td>\n",
       "      <td>33</td>\n",
       "      <td>43</td>\n",
       "    </tr>\n",
       "    <tr>\n",
       "      <th>10</th>\n",
       "      <td>47</td>\n",
       "      <td>34</td>\n",
       "      <td>44</td>\n",
       "    </tr>\n",
       "    <tr>\n",
       "      <th>11</th>\n",
       "      <td>48</td>\n",
       "      <td>35</td>\n",
       "      <td>45</td>\n",
       "    </tr>\n",
       "    <tr>\n",
       "      <th>12</th>\n",
       "      <td>49</td>\n",
       "      <td>37</td>\n",
       "      <td>47</td>\n",
       "    </tr>\n",
       "    <tr>\n",
       "      <th>13</th>\n",
       "      <td>58</td>\n",
       "      <td>44</td>\n",
       "      <td>54</td>\n",
       "    </tr>\n",
       "    <tr>\n",
       "      <th>14</th>\n",
       "      <td>59</td>\n",
       "      <td>59</td>\n",
       "      <td>59</td>\n",
       "    </tr>\n",
       "    <tr>\n",
       "      <th>15</th>\n",
       "      <td>70</td>\n",
       "      <td>70</td>\n",
       "      <td>70</td>\n",
       "    </tr>\n",
       "  </tbody>\n",
       "</table>\n",
       "</div>"
      ],
      "text/plain": [
       "     X   Y   Z\n",
       "0    0   0   0\n",
       "1   11  11  11\n",
       "2   12  12  12\n",
       "3   21  21  21\n",
       "4   22  22  22\n",
       "5   23  23  23\n",
       "6   31  24  34\n",
       "7   32  28  38\n",
       "8   38  29  49\n",
       "9   39  33  43\n",
       "10  47  34  44\n",
       "11  48  35  45\n",
       "12  49  37  47\n",
       "13  58  44  54\n",
       "14  59  59  59\n",
       "15  70  70  70"
      ]
     },
     "execution_count": 2,
     "metadata": {},
     "output_type": "execute_result"
    }
   ],
   "source": [
    "df = pd.DataFrame({\"X\":[0,11,12,21,22,23,31,32,38,39,47,48,49,58,59,70],\n",
    "                  \"Y\":[0,11,12,21,22,23,24,28,29,33,34,35,37,44,59,70],\n",
    "                  \"Z\":[0,11,12,21,22,23,34,38,49,43,44,45,47,54,59,70]})\n",
    "df"
   ]
  },
  {
   "cell_type": "markdown",
   "id": "a6fe11e6-09cd-4971-8fe5-2bf19328b0dd",
   "metadata": {},
   "source": [
    "**Symmetrical distribution or Normal distribution**"
   ]
  },
  {
   "cell_type": "markdown",
   "id": "5583ab0e-adb4-4400-b4ee-7ad319cf8f07",
   "metadata": {},
   "source": [
    "                           mean  =  median"
   ]
  },
  {
   "cell_type": "code",
   "execution_count": 3,
   "id": "7554e142-e00e-4190-8fc5-4296fa4dcc8b",
   "metadata": {},
   "outputs": [
    {
     "data": {
      "text/plain": [
       "35.0"
      ]
     },
     "execution_count": 3,
     "metadata": {},
     "output_type": "execute_result"
    }
   ],
   "source": [
    "# mean\n",
    "df[\"X\"].mean()"
   ]
  },
  {
   "cell_type": "code",
   "execution_count": 4,
   "id": "9142a983-0dd2-469e-909d-7d465b787f8b",
   "metadata": {},
   "outputs": [
    {
     "data": {
      "text/plain": [
       "35.0"
      ]
     },
     "execution_count": 4,
     "metadata": {},
     "output_type": "execute_result"
    }
   ],
   "source": [
    "# Median\n",
    "df[\"X\"].median()"
   ]
  },
  {
   "cell_type": "code",
   "execution_count": 5,
   "id": "98ffc152-079e-460d-8c85-0b5aec744623",
   "metadata": {},
   "outputs": [
    {
     "data": {
      "text/plain": [
       "0.0"
      ]
     },
     "execution_count": 5,
     "metadata": {},
     "output_type": "execute_result"
    }
   ],
   "source": [
    "df[\"X\"].skew()"
   ]
  },
  {
   "cell_type": "code",
   "execution_count": 6,
   "id": "e4ae885d-7412-4c80-8a3b-f424ced70c5e",
   "metadata": {},
   "outputs": [
    {
     "data": {
      "image/png": "[encoded data removed]",
      "text/plain": [
       "<Figure size 640x480 with 1 Axes>"
      ]
     },
     "metadata": {},
     "output_type": "display_data"
    }
   ],
   "source": [
    "sns.histplot(df[\"X\"],bins=7,kde=True)\n",
    "plt.show()"
   ]
  },
  {
   "cell_type": "code",
   "execution_count": 7,
   "id": "e0174a1b-60fd-48dd-aec9-600e45380c1b",
   "metadata": {},
   "outputs": [
    {
     "data": {
      "image/png": "[encoded data removed]",
      "text/plain": [
       "<Figure size 640x480 with 1 Axes>"
      ]
     },
     "metadata": {},
     "output_type": "display_data"
    }
   ],
   "source": [
    "sns.kdeplot(df[\"X\"])\n",
    "plt.show()"
   ]
  },
  {
   "cell_type": "markdown",
   "id": "e54c005f-0794-4432-9d43-27dd31932faa",
   "metadata": {},
   "source": [
    "**Right Skewed distribution or Positively Skewed distribution**"
   ]
  },
  {
   "cell_type": "markdown",
   "id": "3fdedc33-1161-479c-a53b-a617c39eb270",
   "metadata": {},
   "source": [
    "                                   Mean > Median"
   ]
  },
  {
   "cell_type": "code",
   "execution_count": 8,
   "id": "3b39259a-0cc4-4413-bfec-e9a5fdc3a895",
   "metadata": {},
   "outputs": [
    {
     "data": {
      "text/plain": [
       "30.125"
      ]
     },
     "execution_count": 8,
     "metadata": {},
     "output_type": "execute_result"
    }
   ],
   "source": [
    "df[\"Y\"].mean()"
   ]
  },
  {
   "cell_type": "code",
   "execution_count": 9,
   "id": "89a5a91d-773c-4de5-8952-1f0afeec8c21",
   "metadata": {},
   "outputs": [
    {
     "data": {
      "text/plain": [
       "28.5"
      ]
     },
     "execution_count": 9,
     "metadata": {},
     "output_type": "execute_result"
    }
   ],
   "source": [
    "df[\"Y\"].median()"
   ]
  },
  {
   "cell_type": "code",
   "execution_count": 10,
   "id": "2a252353-d3b5-4e36-8363-db99d007f6e9",
   "metadata": {},
   "outputs": [
    {
     "data": {
      "text/plain": [
       "0.6978985152470283"
      ]
     },
     "execution_count": 10,
     "metadata": {},
     "output_type": "execute_result"
    }
   ],
   "source": [
    "df[\"Y\"].skew()"
   ]
  },
  {
   "cell_type": "code",
   "execution_count": 11,
   "id": "60fc67fa-bdac-4d53-a718-cd101be8dd1f",
   "metadata": {},
   "outputs": [
    {
     "data": {
      "image/png": "[encoded data removed]",
      "text/plain": [
       "<Figure size 640x480 with 1 Axes>"
      ]
     },
     "metadata": {},
     "output_type": "display_data"
    }
   ],
   "source": [
    "sns.histplot(df[\"Y\"],bins=7,kde=True)\n",
    "plt.show()"
   ]
  },
  {
   "cell_type": "code",
   "execution_count": 12,
   "id": "02026513-2b48-4030-b2a2-a4a5fadd52e6",
   "metadata": {},
   "outputs": [
    {
     "data": {
      "image/png": "[encoded data removed]",
      "text/plain": [
       "<Figure size 640x480 with 1 Axes>"
      ]
     },
     "metadata": {},
     "output_type": "display_data"
    }
   ],
   "source": [
    "sns.kdeplot(df[\"Y\"])\n",
    "plt.show()"
   ]
  },
  {
   "cell_type": "markdown",
   "id": "d4573377-9ca3-45b8-b3ad-0e94e15b7e47",
   "metadata": {},
   "source": [
    "**Left skewed Distribution or Negative skewed distribution**"
   ]
  },
  {
   "cell_type": "markdown",
   "id": "e3962fec-4355-4504-bf0b-375864c78ee5",
   "metadata": {},
   "source": [
    "                            mean < median"
   ]
  },
  {
   "cell_type": "code",
   "execution_count": 13,
   "id": "aca3f980-cf85-4773-9444-b51c52446e09",
   "metadata": {},
   "outputs": [
    {
     "data": {
      "text/plain": [
       "35.75"
      ]
     },
     "execution_count": 13,
     "metadata": {},
     "output_type": "execute_result"
    }
   ],
   "source": [
    "df[\"Z\"].mean()"
   ]
  },
  {
   "cell_type": "code",
   "execution_count": 14,
   "id": "6244f7d6-f99e-4d35-9797-984dd585cb78",
   "metadata": {},
   "outputs": [
    {
     "data": {
      "text/plain": [
       "40.5"
      ]
     },
     "execution_count": 14,
     "metadata": {},
     "output_type": "execute_result"
    }
   ],
   "source": [
    "df[\"Z\"].median()"
   ]
  },
  {
   "cell_type": "code",
   "execution_count": 15,
   "id": "198d96ad-ad46-43e3-9590-0d747158dbad",
   "metadata": {},
   "outputs": [
    {
     "data": {
      "text/plain": [
       "-0.18882851815445098"
      ]
     },
     "execution_count": 15,
     "metadata": {},
     "output_type": "execute_result"
    }
   ],
   "source": [
    "df[\"Z\"].skew()"
   ]
  },
  {
   "cell_type": "code",
   "execution_count": 16,
   "id": "b55eea94-acf8-4e65-a1f0-84fa827003a0",
   "metadata": {},
   "outputs": [
    {
     "data": {
      "image/png": "[encoded data removed]",
      "text/plain": [
       "<Figure size 640x480 with 1 Axes>"
      ]
     },
     "metadata": {},
     "output_type": "display_data"
    }
   ],
   "source": [
    "sns.histplot(df[\"Z\"],bins=7,kde=True)\n",
    "plt.show()"
   ]
  },
  {
   "cell_type": "code",
   "execution_count": 17,
   "id": "d352ecf9-0999-45a4-b835-20f5da1e8cd7",
   "metadata": {},
   "outputs": [
    {
     "data": {
      "image/png": "[encoded data removed]",
      "text/plain": [
       "<Figure size 640x480 with 1 Axes>"
      ]
     },
     "metadata": {},
     "output_type": "display_data"
    }
   ],
   "source": [
    "sns.kdeplot(df[\"Z\"])\n",
    "plt.show()"
   ]
  },
  {
   "cell_type": "code",
   "execution_count": 18,
   "id": "317f94d6-9454-449e-92b6-07f424acdc27",
   "metadata": {},
   "outputs": [
    {
     "data": {
      "text/html": [
       "<div>\n",
       "<style scoped>\n",
       "    .dataframe tbody tr th:only-of-type {\n",
       "        vertical-align: middle;\n",
       "    }\n",
       "\n",
       "    .dataframe tbody tr th {\n",
       "        vertical-align: top;\n",
       "    }\n",
       "\n",
       "    .dataframe thead th {\n",
       "        text-align: right;\n",
       "    }\n",
       "</style>\n",
       "<table border=\"1\" class=\"dataframe\">\n",
       "  <thead>\n",
       "    <tr style=\"text-align: right;\">\n",
       "      <th></th>\n",
       "      <th>Score</th>\n",
       "    </tr>\n",
       "  </thead>\n",
       "  <tbody>\n",
       "    <tr>\n",
       "      <th>0</th>\n",
       "      <td>19.0</td>\n",
       "    </tr>\n",
       "    <tr>\n",
       "      <th>1</th>\n",
       "      <td>19.1</td>\n",
       "    </tr>\n",
       "    <tr>\n",
       "      <th>2</th>\n",
       "      <td>19.2</td>\n",
       "    </tr>\n",
       "    <tr>\n",
       "      <th>3</th>\n",
       "      <td>19.3</td>\n",
       "    </tr>\n",
       "    <tr>\n",
       "      <th>4</th>\n",
       "      <td>19.4</td>\n",
       "    </tr>\n",
       "    <tr>\n",
       "      <th>5</th>\n",
       "      <td>19.5</td>\n",
       "    </tr>\n",
       "    <tr>\n",
       "      <th>6</th>\n",
       "      <td>19.6</td>\n",
       "    </tr>\n",
       "    <tr>\n",
       "      <th>7</th>\n",
       "      <td>19.7</td>\n",
       "    </tr>\n",
       "    <tr>\n",
       "      <th>8</th>\n",
       "      <td>19.8</td>\n",
       "    </tr>\n",
       "    <tr>\n",
       "      <th>9</th>\n",
       "      <td>20.0</td>\n",
       "    </tr>\n",
       "  </tbody>\n",
       "</table>\n",
       "</div>"
      ],
      "text/plain": [
       "   Score\n",
       "0   19.0\n",
       "1   19.1\n",
       "2   19.2\n",
       "3   19.3\n",
       "4   19.4\n",
       "5   19.5\n",
       "6   19.6\n",
       "7   19.7\n",
       "8   19.8\n",
       "9   20.0"
      ]
     },
     "execution_count": 18,
     "metadata": {},
     "output_type": "execute_result"
    }
   ],
   "source": [
    "df1 = pd.DataFrame({\"Score\":[19,19.1,19.2,19.3,19.4,19.5,19.6,19.7,19.8,20]})\n",
    "df1"
   ]
  },
  {
   "cell_type": "code",
   "execution_count": 19,
   "id": "0747d6c3-336b-4916-a7ca-c96a031cea22",
   "metadata": {},
   "outputs": [
    {
     "data": {
      "image/png": "[encoded data removed]",
      "text/plain": [
       "<Figure size 640x480 with 1 Axes>"
      ]
     },
     "metadata": {},
     "output_type": "display_data"
    }
   ],
   "source": [
    "sns.histplot(df1[\"Score\"])\n",
    "plt.title(\"Uniform distribution\")\n",
    "plt.show()"
   ]
  },
  {
   "cell_type": "markdown",
   "id": "9006a350-0cae-4649-9964-e1c0a66d1d49",
   "metadata": {},
   "source": [
    "**When they have not given the data set**: at that time we have two option's **1)68-95-99.7% rule** & **Z-score**"
   ]
  },
  {
   "cell_type": "markdown",
   "id": "67308cd3-5dd7-4be5-bcf8-acd80a88860c",
   "metadata": {},
   "source": [
    "**works only on normal distributed data,if it is skewed data convert it to normal distributed and apply the logic**"
   ]
  },
  {
   "cell_type": "markdown",
   "id": "d5ca3fe6-33ef-4082-93de-ce99d892b95d",
   "metadata": {},
   "source": [
    "for **Normal distribution data**,we have **68-95-99.7% Rule**"
   ]
  },
  {
   "cell_type": "markdown",
   "id": "a7488be8-4dde-4677-ab7a-803a9892b121",
   "metadata": {},
   "source": [
    "**Ex**: If you have a data of a company with 1000 employees salaries & they form normal distribution, with mean = 70000 & std.deviation of 5000\n",
    "- 50% of employees salaries are less than 70000 & 50% of employees salaries are above 70000\n",
    "- 68% of employees salaries lies between 65000 to 75000\n",
    "- 95% of employees salaries lies between 60000 to 80000\n",
    "- 99.7% of employees salaries lies between 55000 to 85000"
   ]
  },
  {
   "cell_type": "markdown",
   "id": "e4607574-3679-4f0b-bd6f-db55762afc5e",
   "metadata": {},
   "source": [
    "**We gathered data from last mock test conducted at NareshIT and found that it followed normal distribution with mean of 70 & std.deviation of 10**"
   ]
  },
  {
   "cell_type": "markdown",
   "id": "671faecb-f1b4-4090-a382-87e24c9464fa",
   "metadata": {},
   "source": [
    "1) What is the probability of students having marks below 70 ?\n",
    "  **ans** : 50% or 0.5\n",
    "2) What is the probability of students having marks above 70 ?\n",
    "  **ans** : 50% or 0.5\n",
    "3) What is the probability of students having marks between 70 and 90?\n",
    "  **ans** : 47.5% or 0.475\n",
    "4) What is the probability of students having marks between 60 and 90 ?\n",
    "  **ans** : 81.5% or 0.815\n",
    "5) What is the probability of students having marks between 50 and 90 ?\n",
    "  **ans** : 95% or 0.95"
   ]
  },
  {
   "cell_type": "code",
   "execution_count": 25,
   "id": "e1a4a538-9f91-4095-9772-022afed7d22f",
   "metadata": {},
   "outputs": [
    {
     "data": {
      "text/html": [
       "<div>\n",
       "<style scoped>\n",
       "    .dataframe tbody tr th:only-of-type {\n",
       "        vertical-align: middle;\n",
       "    }\n",
       "\n",
       "    .dataframe tbody tr th {\n",
       "        vertical-align: top;\n",
       "    }\n",
       "\n",
       "    .dataframe thead th {\n",
       "        text-align: right;\n",
       "    }\n",
       "</style>\n",
       "<table border=\"1\" class=\"dataframe\">\n",
       "  <thead>\n",
       "    <tr style=\"text-align: right;\">\n",
       "      <th></th>\n",
       "      <th>X</th>\n",
       "      <th>Y</th>\n",
       "      <th>Z</th>\n",
       "    </tr>\n",
       "  </thead>\n",
       "  <tbody>\n",
       "    <tr>\n",
       "      <th>0</th>\n",
       "      <td>0</td>\n",
       "      <td>0</td>\n",
       "      <td>0</td>\n",
       "    </tr>\n",
       "    <tr>\n",
       "      <th>1</th>\n",
       "      <td>11</td>\n",
       "      <td>11</td>\n",
       "      <td>11</td>\n",
       "    </tr>\n",
       "    <tr>\n",
       "      <th>2</th>\n",
       "      <td>12</td>\n",
       "      <td>12</td>\n",
       "      <td>12</td>\n",
       "    </tr>\n",
       "    <tr>\n",
       "      <th>3</th>\n",
       "      <td>21</td>\n",
       "      <td>21</td>\n",
       "      <td>21</td>\n",
       "    </tr>\n",
       "    <tr>\n",
       "      <th>4</th>\n",
       "      <td>22</td>\n",
       "      <td>22</td>\n",
       "      <td>22</td>\n",
       "    </tr>\n",
       "    <tr>\n",
       "      <th>5</th>\n",
       "      <td>23</td>\n",
       "      <td>23</td>\n",
       "      <td>23</td>\n",
       "    </tr>\n",
       "    <tr>\n",
       "      <th>6</th>\n",
       "      <td>31</td>\n",
       "      <td>24</td>\n",
       "      <td>34</td>\n",
       "    </tr>\n",
       "    <tr>\n",
       "      <th>7</th>\n",
       "      <td>32</td>\n",
       "      <td>28</td>\n",
       "      <td>38</td>\n",
       "    </tr>\n",
       "    <tr>\n",
       "      <th>8</th>\n",
       "      <td>38</td>\n",
       "      <td>29</td>\n",
       "      <td>49</td>\n",
       "    </tr>\n",
       "    <tr>\n",
       "      <th>9</th>\n",
       "      <td>39</td>\n",
       "      <td>33</td>\n",
       "      <td>43</td>\n",
       "    </tr>\n",
       "    <tr>\n",
       "      <th>10</th>\n",
       "      <td>47</td>\n",
       "      <td>34</td>\n",
       "      <td>44</td>\n",
       "    </tr>\n",
       "    <tr>\n",
       "      <th>11</th>\n",
       "      <td>48</td>\n",
       "      <td>35</td>\n",
       "      <td>45</td>\n",
       "    </tr>\n",
       "    <tr>\n",
       "      <th>12</th>\n",
       "      <td>49</td>\n",
       "      <td>37</td>\n",
       "      <td>47</td>\n",
       "    </tr>\n",
       "    <tr>\n",
       "      <th>13</th>\n",
       "      <td>58</td>\n",
       "      <td>44</td>\n",
       "      <td>54</td>\n",
       "    </tr>\n",
       "    <tr>\n",
       "      <th>14</th>\n",
       "      <td>59</td>\n",
       "      <td>59</td>\n",
       "      <td>59</td>\n",
       "    </tr>\n",
       "    <tr>\n",
       "      <th>15</th>\n",
       "      <td>70</td>\n",
       "      <td>70</td>\n",
       "      <td>70</td>\n",
       "    </tr>\n",
       "  </tbody>\n",
       "</table>\n",
       "</div>"
      ],
      "text/plain": [
       "     X   Y   Z\n",
       "0    0   0   0\n",
       "1   11  11  11\n",
       "2   12  12  12\n",
       "3   21  21  21\n",
       "4   22  22  22\n",
       "5   23  23  23\n",
       "6   31  24  34\n",
       "7   32  28  38\n",
       "8   38  29  49\n",
       "9   39  33  43\n",
       "10  47  34  44\n",
       "11  48  35  45\n",
       "12  49  37  47\n",
       "13  58  44  54\n",
       "14  59  59  59\n",
       "15  70  70  70"
      ]
     },
     "execution_count": 25,
     "metadata": {},
     "output_type": "execute_result"
    }
   ],
   "source": [
    "df"
   ]
  },
  {
   "cell_type": "code",
   "execution_count": 31,
   "id": "3a08b9bf-2aa4-4eb9-9825-fb7f6459fbc5",
   "metadata": {},
   "outputs": [
    {
     "data": {
      "text/plain": [
       "35.0"
      ]
     },
     "execution_count": 31,
     "metadata": {},
     "output_type": "execute_result"
    }
   ],
   "source": [
    "μ = df[\"X\"].mean()       # mean value = middle value of density grapgh = 35.0\n",
    "μ                    "
   ]
  },
  {
   "cell_type": "code",
   "execution_count": 33,
   "id": "c8bcb0e8-4734-468e-9ca2-5b3ad05767a6",
   "metadata": {},
   "outputs": [
    {
     "data": {
      "text/plain": [
       "18.920887928424502"
      ]
     },
     "execution_count": 33,
     "metadata": {},
     "output_type": "execute_result"
    }
   ],
   "source": [
    "std_σ = df[\"X\"].std(ddof=0)\n",
    "std_σ                      "
   ]
  },
  {
   "cell_type": "code",
   "execution_count": 34,
   "id": "3b64f9bd-82b1-440d-a17a-147597a421a2",
   "metadata": {},
   "outputs": [
    {
     "data": {
      "text/plain": [
       "53.920887928424506"
      ]
     },
     "execution_count": 34,
     "metadata": {},
     "output_type": "execute_result"
    }
   ],
   "source": [
    "μ + 1*std_σ"
   ]
  },
  {
   "cell_type": "code",
   "execution_count": 35,
   "id": "371fb878-d864-49a3-9c45-e49495cdc102",
   "metadata": {},
   "outputs": [
    {
     "data": {
      "text/plain": [
       "10.88"
      ]
     },
     "execution_count": 35,
     "metadata": {},
     "output_type": "execute_result"
    }
   ],
   "source": [
    "16 * 0.68"
   ]
  },
  {
   "cell_type": "markdown",
   "id": "eee47579-55ae-4d4d-978a-a88a88152e7d",
   "metadata": {},
   "source": [
    "**Z - score**"
   ]
  },
  {
   "cell_type": "markdown",
   "id": "32a6856a-1015-4eec-bae3-5ad58a544189",
   "metadata": {},
   "source": [
    "**z = (x-μ)/σ**"
   ]
  },
  {
   "cell_type": "markdown",
   "id": "d90a7d9b-6f1f-40b6-a343-d78eff8ffd56",
   "metadata": {},
   "source": [
    "**Calculate probability using z-score**"
   ]
  },
  {
   "cell_type": "markdown",
   "id": "b04c8156-f4e1-4bd1-a0d5-a4a920bb8ea8",
   "metadata": {},
   "source": [
    "**We gathered data from last mock test conducted at NareshIT and found that it followed normal distribution with mean of 60 & std.deviation of 10**"
   ]
  },
  {
   "cell_type": "markdown",
   "id": "d234a895-f3ce-4b6a-8f28-5e46aadc4dd4",
   "metadata": {},
   "source": [
    "- 1) Question-->  What proportion of students scored less than 49 in that exam ?"
   ]
  },
  {
   "cell_type": "code",
   "execution_count": 7,
   "id": "4cf5e1c1-648e-4ea4-9092-de1b0cfa50bb",
   "metadata": {},
   "outputs": [
    {
     "data": {
      "text/plain": [
       "-1.1"
      ]
     },
     "execution_count": 7,
     "metadata": {},
     "output_type": "execute_result"
    }
   ],
   "source": [
    "zvalue = (49-60)/10\n",
    "zvalue"
   ]
  },
  {
   "cell_type": "code",
   "execution_count": 9,
   "id": "a0d4f59b-5d7a-4115-a718-058e7bd10cab",
   "metadata": {},
   "outputs": [
    {
     "data": {
      "text/plain": [
       "0.13566606094638267"
      ]
     },
     "execution_count": 9,
     "metadata": {},
     "output_type": "execute_result"
    }
   ],
   "source": [
    "from scipy import stats\n",
    "stats.norm.cdf(zvalue)           # cdf= cumulative density function"
   ]
  },
  {
   "cell_type": "code",
   "execution_count": 10,
   "id": "c1ba2f1f-fcd1-4695-87c8-f07ce643e180",
   "metadata": {},
   "outputs": [
    {
     "data": {
      "text/plain": [
       "0.136"
      ]
     },
     "execution_count": 10,
     "metadata": {},
     "output_type": "execute_result"
    }
   ],
   "source": [
    "# if you want only 3decimals\n",
    "round(stats.norm.cdf(zvalue),3)"
   ]
  },
  {
   "cell_type": "markdown",
   "id": "0dfe257a-c5a5-4f28-9307-c78ab413bf56",
   "metadata": {},
   "source": [
    "**We gathered data from last mock test conducted at NareshIT and found that it followed normal distribution with mean of 60 & std.deviation of 10**"
   ]
  },
  {
   "cell_type": "markdown",
   "id": "e9f137e7-d69b-44ba-8a91-b2b340239d68",
   "metadata": {},
   "source": [
    "- 2) Question-->  What proportion of students scored between 50 & 70 in that exam ?\n",
    "     - by using 68-95-99.7% rule &\n",
    "     - by using z-score"
   ]
  },
  {
   "cell_type": "code",
   "execution_count": 16,
   "id": "e27c69cd-bd1b-4bac-b1db-3914156e78a5",
   "metadata": {},
   "outputs": [],
   "source": [
    "# by using 68-95-99.7% rule\n",
    "# mue_value(mean)=60\n",
    "#std.deviation=10\n",
    "#ans == 34+34 = 68% by using normal distribution table"
   ]
  },
  {
   "cell_type": "code",
   "execution_count": 21,
   "id": "c138a8f1-6e03-44f3-996f-3ebdbd11226e",
   "metadata": {},
   "outputs": [
    {
     "data": {
      "text/plain": [
       "1.0"
      ]
     },
     "execution_count": 21,
     "metadata": {},
     "output_type": "execute_result"
    }
   ],
   "source": [
    "# by using z-score\n",
    "#first calculate probability(0 to 70)\n",
    "# i.e, p(x<70)\n",
    "z1 = (70-60)/10\n",
    "z1"
   ]
  },
  {
   "cell_type": "code",
   "execution_count": 25,
   "id": "af737b72-7a7c-41b3-95ab-280e993e734a",
   "metadata": {},
   "outputs": [
    {
     "data": {
      "text/plain": [
       "0.841"
      ]
     },
     "execution_count": 25,
     "metadata": {},
     "output_type": "execute_result"
    }
   ],
   "source": [
    "round(stats.norm.cdf(z1),3)"
   ]
  },
  {
   "cell_type": "code",
   "execution_count": 23,
   "id": "3c99ad5d-e610-43c1-8a0e-897b8dab05fa",
   "metadata": {},
   "outputs": [
    {
     "data": {
      "text/plain": [
       "-1.0"
      ]
     },
     "execution_count": 23,
     "metadata": {},
     "output_type": "execute_result"
    }
   ],
   "source": [
    "# next calculate probability(0 to 50)\n",
    "# i.e, p(x<50)\n",
    "z2=(50-60)/10\n",
    "z2"
   ]
  },
  {
   "cell_type": "code",
   "execution_count": 26,
   "id": "4c95132f-a96a-4e26-a052-1123388fd81d",
   "metadata": {},
   "outputs": [
    {
     "data": {
      "text/plain": [
       "0.159"
      ]
     },
     "execution_count": 26,
     "metadata": {},
     "output_type": "execute_result"
    }
   ],
   "source": [
    "round(stats.norm.cdf(z2),3)"
   ]
  },
  {
   "cell_type": "code",
   "execution_count": 31,
   "id": "7babe14a-4f5a-43e0-b51f-c5ec781e54f6",
   "metadata": {},
   "outputs": [
    {
     "data": {
      "text/plain": [
       "0.68"
      ]
     },
     "execution_count": 31,
     "metadata": {},
     "output_type": "execute_result"
    }
   ],
   "source": [
    "#big value - small value\n",
    "#answer\n",
    "round((0.841 -0.159),2)"
   ]
  },
  {
   "cell_type": "markdown",
   "id": "81a90b64-21e6-4cc6-91a0-1630e9d1bcf4",
   "metadata": {},
   "source": [
    "# Bivariate & Multivariate Analysis"
   ]
  },
  {
   "cell_type": "code",
   "execution_count": 2,
   "id": "e67d31eb-d4a0-4a97-bde1-f817acfbbe17",
   "metadata": {},
   "outputs": [
    {
     "data": {
      "text/html": [
       "<div>\n",
       "<style scoped>\n",
       "    .dataframe tbody tr th:only-of-type {\n",
       "        vertical-align: middle;\n",
       "    }\n",
       "\n",
       "    .dataframe tbody tr th {\n",
       "        vertical-align: top;\n",
       "    }\n",
       "\n",
       "    .dataframe thead th {\n",
       "        text-align: right;\n",
       "    }\n",
       "</style>\n",
       "<table border=\"1\" class=\"dataframe\">\n",
       "  <thead>\n",
       "    <tr style=\"text-align: right;\">\n",
       "      <th></th>\n",
       "      <th>X</th>\n",
       "      <th>Y</th>\n",
       "      <th>Z</th>\n",
       "    </tr>\n",
       "  </thead>\n",
       "  <tbody>\n",
       "    <tr>\n",
       "      <th>0</th>\n",
       "      <td>11</td>\n",
       "      <td>10</td>\n",
       "      <td>18</td>\n",
       "    </tr>\n",
       "    <tr>\n",
       "      <th>1</th>\n",
       "      <td>22</td>\n",
       "      <td>9</td>\n",
       "      <td>19</td>\n",
       "    </tr>\n",
       "    <tr>\n",
       "      <th>2</th>\n",
       "      <td>13</td>\n",
       "      <td>8</td>\n",
       "      <td>21</td>\n",
       "    </tr>\n",
       "    <tr>\n",
       "      <th>3</th>\n",
       "      <td>24</td>\n",
       "      <td>7</td>\n",
       "      <td>22</td>\n",
       "    </tr>\n",
       "    <tr>\n",
       "      <th>4</th>\n",
       "      <td>30</td>\n",
       "      <td>6</td>\n",
       "      <td>40</td>\n",
       "    </tr>\n",
       "  </tbody>\n",
       "</table>\n",
       "</div>"
      ],
      "text/plain": [
       "    X   Y   Z\n",
       "0  11  10  18\n",
       "1  22   9  19\n",
       "2  13   8  21\n",
       "3  24   7  22\n",
       "4  30   6  40"
      ]
     },
     "execution_count": 2,
     "metadata": {},
     "output_type": "execute_result"
    }
   ],
   "source": [
    "df4 = pd.DataFrame({\"X\":[11,22,13,24,30],\n",
    "                   \"Y\":[10,9,8,7,6],\n",
    "                   \"Z\":[18,19,21,22,40]})\n",
    "df4"
   ]
  },
  {
   "cell_type": "markdown",
   "id": "318defa1-c5ec-4724-b57f-6b6eedb7edb4",
   "metadata": {},
   "source": [
    "**Covariance**"
   ]
  },
  {
   "cell_type": "code",
   "execution_count": 39,
   "id": "d8a22b40-d0cc-43fe-9d6d-d5554192a7ce",
   "metadata": {},
   "outputs": [
    {
     "data": {
      "text/html": [
       "<div>\n",
       "<style scoped>\n",
       "    .dataframe tbody tr th:only-of-type {\n",
       "        vertical-align: middle;\n",
       "    }\n",
       "\n",
       "    .dataframe tbody tr th {\n",
       "        vertical-align: top;\n",
       "    }\n",
       "\n",
       "    .dataframe thead th {\n",
       "        text-align: right;\n",
       "    }\n",
       "</style>\n",
       "<table border=\"1\" class=\"dataframe\">\n",
       "  <thead>\n",
       "    <tr style=\"text-align: right;\">\n",
       "      <th></th>\n",
       "      <th>X</th>\n",
       "      <th>Y</th>\n",
       "      <th>Z</th>\n",
       "    </tr>\n",
       "  </thead>\n",
       "  <tbody>\n",
       "    <tr>\n",
       "      <th>X</th>\n",
       "      <td>62.50</td>\n",
       "      <td>-10.00</td>\n",
       "      <td>54.25</td>\n",
       "    </tr>\n",
       "    <tr>\n",
       "      <th>Y</th>\n",
       "      <td>-10.00</td>\n",
       "      <td>2.50</td>\n",
       "      <td>-11.75</td>\n",
       "    </tr>\n",
       "    <tr>\n",
       "      <th>Z</th>\n",
       "      <td>54.25</td>\n",
       "      <td>-11.75</td>\n",
       "      <td>82.50</td>\n",
       "    </tr>\n",
       "  </tbody>\n",
       "</table>\n",
       "</div>"
      ],
      "text/plain": [
       "       X      Y      Z\n",
       "X  62.50 -10.00  54.25\n",
       "Y -10.00   2.50 -11.75\n",
       "Z  54.25 -11.75  82.50"
      ]
     },
     "execution_count": 39,
     "metadata": {},
     "output_type": "execute_result"
    }
   ],
   "source": [
    "#code to find cov(x,y,z)\n",
    "df4.cov()"
   ]
  },
  {
   "cell_type": "markdown",
   "id": "a4890ac1-f11f-4270-b0dc-f2c8e1c52a8e",
   "metadata": {},
   "source": [
    "**Correlation**"
   ]
  },
  {
   "cell_type": "code",
   "execution_count": 3,
   "id": "e3e3f688-1614-4040-b29c-07b8d7072cc7",
   "metadata": {},
   "outputs": [
    {
     "data": {
      "text/html": [
       "<div>\n",
       "<style scoped>\n",
       "    .dataframe tbody tr th:only-of-type {\n",
       "        vertical-align: middle;\n",
       "    }\n",
       "\n",
       "    .dataframe tbody tr th {\n",
       "        vertical-align: top;\n",
       "    }\n",
       "\n",
       "    .dataframe thead th {\n",
       "        text-align: right;\n",
       "    }\n",
       "</style>\n",
       "<table border=\"1\" class=\"dataframe\">\n",
       "  <thead>\n",
       "    <tr style=\"text-align: right;\">\n",
       "      <th></th>\n",
       "      <th>X</th>\n",
       "      <th>Y</th>\n",
       "      <th>Z</th>\n",
       "    </tr>\n",
       "  </thead>\n",
       "  <tbody>\n",
       "    <tr>\n",
       "      <th>X</th>\n",
       "      <td>1.000000</td>\n",
       "      <td>-0.800000</td>\n",
       "      <td>0.755497</td>\n",
       "    </tr>\n",
       "    <tr>\n",
       "      <th>Y</th>\n",
       "      <td>-0.800000</td>\n",
       "      <td>1.000000</td>\n",
       "      <td>-0.818165</td>\n",
       "    </tr>\n",
       "    <tr>\n",
       "      <th>Z</th>\n",
       "      <td>0.755497</td>\n",
       "      <td>-0.818165</td>\n",
       "      <td>1.000000</td>\n",
       "    </tr>\n",
       "  </tbody>\n",
       "</table>\n",
       "</div>"
      ],
      "text/plain": [
       "          X         Y         Z\n",
       "X  1.000000 -0.800000  0.755497\n",
       "Y -0.800000  1.000000 -0.818165\n",
       "Z  0.755497 -0.818165  1.000000"
      ]
     },
     "execution_count": 3,
     "metadata": {},
     "output_type": "execute_result"
    }
   ],
   "source": [
    "#code to find correlation(x,y,z)\n",
    "df4.corr()"
   ]
  },
  {
   "cell_type": "code",
   "execution_count": 9,
   "id": "70fd1156-5b16-4bcb-9ed8-2be28e2c920b",
   "metadata": {},
   "outputs": [
    {
     "data": {
      "image/png": "[encoded data removed]",
      "text/plain": [
       "<Figure size 640x480 with 2 Axes>"
      ]
     },
     "metadata": {},
     "output_type": "display_data"
    }
   ],
   "source": [
    "sns.heatmap(df4.corr())\n",
    "plt.show()"
   ]
  },
  {
   "cell_type": "code",
   "execution_count": null,
   "id": "addb4731-13c9-4975-a571-2b8db2a2204d",
   "metadata": {},
   "outputs": [],
   "source": []
  }
 ],
 "metadata": {
  "kernelspec": {
   "display_name": "Python 3 (ipykernel)",
   "language": "python",
   "name": "python3"
  },
  "language_info": {
   "codemirror_mode": {
    "name": "ipython",
    "version": 3
   },
   "file_extension": ".py",
   "mimetype": "text/x-python",
   "name": "python",
   "nbconvert_exporter": "python",
   "pygments_lexer": "ipython3",
   "version": "3.11.7"
  }
 },
 "nbformat": 4,
 "nbformat_minor": 5
}

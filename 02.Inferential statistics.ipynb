{
 "cells": [
  {
   "cell_type": "code",
   "execution_count": 1,
   "id": "dd4f7764-1a0a-4712-a24f-bb931872fef7",
   "metadata": {},
   "outputs": [],
   "source": [
    "import numpy as np\n",
    "import pandas as pd\n",
    "\n",
    "from scipy import stats"
   ]
  },
  {
   "cell_type": "code",
   "execution_count": 3,
   "id": "f0d4f53c-2e28-4066-a39e-78bd040699f9",
   "metadata": {},
   "outputs": [
    {
     "data": {
      "text/plain": [
       "0.8849303297782918"
      ]
     },
     "execution_count": 3,
     "metadata": {},
     "output_type": "execute_result"
    }
   ],
   "source": [
    "# How to Calculate a probability (p-value) based on z-score\n",
    "# Syntax : stats.norm.cdf(z-score)\n",
    "\n",
    "stats.norm.cdf(1.2)"
   ]
  },
  {
   "cell_type": "markdown",
   "id": "6ce55ba7-529e-42d4-bd18-051bec0d99d7",
   "metadata": {},
   "source": [
    "**Case study 1 :** The length of 25 samples of a fabric are taken at random. Historic Mean(i.e,population mean) and standard deviation are 150 cm and 5.5 cm respectively. Company manager wants to test if the current mean is equal to the Historic mean. Assume level of significance (alpha = 0.05%) "
   ]
  },
  {
   "cell_type": "markdown",
   "id": "cb69498e-f4bf-4e0a-80fb-933d54f96284",
   "metadata": {},
   "source": [
    "**Step 1 : Formation of H0, H1**"
   ]
  },
  {
   "cell_type": "markdown",
   "id": "74ec725d-6dd8-4bb5-b4f2-6589a8f12b15",
   "metadata": {},
   "source": [
    "- H0 : mean ==  150 cm (No action)\n",
    "- H1 : mean != 150 cm  (action)"
   ]
  },
  {
   "cell_type": "markdown",
   "id": "fcbd9b06-32a0-4e4a-846f-719294a97cb0",
   "metadata": {},
   "source": [
    "**Step 2 : Check the level of significance**"
   ]
  },
  {
   "cell_type": "markdown",
   "id": "66f94b35-7b1e-4076-aa0d-6eb7146fe6de",
   "metadata": {},
   "source": [
    "- alpha = 0.05"
   ]
  },
  {
   "cell_type": "markdown",
   "id": "a828bf37-dc9a-416b-85a2-72bca124c0b7",
   "metadata": {},
   "source": [
    "**Step 3 : Check for Normality**"
   ]
  },
  {
   "cell_type": "code",
   "execution_count": 4,
   "id": "b865f5d1-bcda-42f3-9cf2-a12bb66840d1",
   "metadata": {},
   "outputs": [
    {
     "data": {
      "text/html": [
       "<div>\n",
       "<style scoped>\n",
       "    .dataframe tbody tr th:only-of-type {\n",
       "        vertical-align: middle;\n",
       "    }\n",
       "\n",
       "    .dataframe tbody tr th {\n",
       "        vertical-align: top;\n",
       "    }\n",
       "\n",
       "    .dataframe thead th {\n",
       "        text-align: right;\n",
       "    }\n",
       "</style>\n",
       "<table border=\"1\" class=\"dataframe\">\n",
       "  <thead>\n",
       "    <tr style=\"text-align: right;\">\n",
       "      <th></th>\n",
       "      <th>Fabric_length</th>\n",
       "    </tr>\n",
       "  </thead>\n",
       "  <tbody>\n",
       "    <tr>\n",
       "      <th>0</th>\n",
       "      <td>151.2</td>\n",
       "    </tr>\n",
       "    <tr>\n",
       "      <th>1</th>\n",
       "      <td>160.3</td>\n",
       "    </tr>\n",
       "    <tr>\n",
       "      <th>2</th>\n",
       "      <td>147.5</td>\n",
       "    </tr>\n",
       "    <tr>\n",
       "      <th>3</th>\n",
       "      <td>149.2</td>\n",
       "    </tr>\n",
       "    <tr>\n",
       "      <th>4</th>\n",
       "      <td>159.2</td>\n",
       "    </tr>\n",
       "  </tbody>\n",
       "</table>\n",
       "</div>"
      ],
      "text/plain": [
       "   Fabric_length\n",
       "0          151.2\n",
       "1          160.3\n",
       "2          147.5\n",
       "3          149.2\n",
       "4          159.2"
      ]
     },
     "execution_count": 4,
     "metadata": {},
     "output_type": "execute_result"
    }
   ],
   "source": [
    "df1 = pd.read_excel(\"fabric data.xlsx\")\n",
    "df1.head()"
   ]
  },
  {
   "cell_type": "code",
   "execution_count": 7,
   "id": "7f8220c9-500c-407b-82b2-a5f02ad29225",
   "metadata": {},
   "outputs": [
    {
     "data": {
      "text/plain": [
       "0.29650632012590666"
      ]
     },
     "execution_count": 7,
     "metadata": {},
     "output_type": "execute_result"
    }
   ],
   "source": [
    "df1[\"Fabric_length\"].skew()"
   ]
  },
  {
   "cell_type": "markdown",
   "id": "463c369e-0cb7-4b22-8523-6cc25a3d8e57",
   "metadata": {},
   "source": [
    "**Step 4 : Select the statistical test and check p-value**"
   ]
  },
  {
   "cell_type": "markdown",
   "id": "f54cd243-61a0-4105-b1d2-4d54428eb59a",
   "metadata": {},
   "source": [
    "- 1 sample Z-test with two tail Rejection (Here standard deviation is given so selected Z-test)"
   ]
  },
  {
   "cell_type": "code",
   "execution_count": 8,
   "id": "e1158a60-9307-4101-b9be-5d9e14a1915a",
   "metadata": {},
   "outputs": [
    {
     "data": {
      "text/plain": [
       "(4.581553935379281, 4.615335331740764e-06)"
      ]
     },
     "execution_count": 8,
     "metadata": {},
     "output_type": "execute_result"
    }
   ],
   "source": [
    "from statsmodels.stats.weightstats import ztest\n",
    "ztest(df1[\"Fabric_length\"],value=150, alternative = \"two-sided\", ddof=0)"
   ]
  },
  {
   "cell_type": "markdown",
   "id": "fa9969d0-598a-4dfb-bfb9-aa63d6094dd3",
   "metadata": {},
   "source": [
    "**p-value = 4.615335331740764e-06**"
   ]
  },
  {
   "cell_type": "markdown",
   "id": "b2652af7-83bf-48be-b3f3-2be8c9451a1f",
   "metadata": {},
   "source": [
    "**Step 5 : Based on p-value, Accept or Reject H0**"
   ]
  },
  {
   "cell_type": "markdown",
   "id": "27258f89-7f70-4887-9088-3cbca9116fb4",
   "metadata": {},
   "source": [
    "- p < alpha\n",
    "- 4.615335331740764e-06 < 0.05\n",
    "- p low -- Null go\n",
    "- Reject H0 \n",
    "- Accept H1 --> mean != 150 (Action required)"
   ]
  },
  {
   "cell_type": "markdown",
   "id": "0855755f-5199-463f-b559-00c351e9a0e0",
   "metadata": {},
   "source": [
    "**Case Study 2 :** The mean diameter of the bolt manufactured should be 10mm to be able to fit into the nut. 20 samples are taken at random from production line by a quality inspector. Conduct a test to check with 90% confidence that the mean is not different form the specification value."
   ]
  },
  {
   "cell_type": "markdown",
   "id": "72ed3766-490f-4de8-a973-e0b9bd88341f",
   "metadata": {},
   "source": [
    "**Step 1 : Formation of H0, H1**"
   ]
  },
  {
   "cell_type": "markdown",
   "id": "73cb8706-2683-4f2d-ab4e-179e93626132",
   "metadata": {},
   "source": [
    "- H0 : mean ==  10 mm (No action)\n",
    "- H1 : mean != 10 mm  (action)"
   ]
  },
  {
   "cell_type": "markdown",
   "id": "8b5486b1-d711-4d61-b116-716d56b2ddf6",
   "metadata": {},
   "source": [
    "**Step 2 : Check the level of significance**"
   ]
  },
  {
   "cell_type": "markdown",
   "id": "3c1a53fb-2821-4832-82b5-ac6b8eccf55f",
   "metadata": {},
   "source": [
    "- alpha = 0.1"
   ]
  },
  {
   "cell_type": "markdown",
   "id": "40870b64-ceb8-4560-bc07-2416153ce1ea",
   "metadata": {},
   "source": [
    "**Step 3 : Check for Normality**"
   ]
  },
  {
   "cell_type": "code",
   "execution_count": 11,
   "id": "0d238ef0-ab8b-42da-a257-85147ed5e921",
   "metadata": {},
   "outputs": [
    {
     "data": {
      "text/html": [
       "<div>\n",
       "<style scoped>\n",
       "    .dataframe tbody tr th:only-of-type {\n",
       "        vertical-align: middle;\n",
       "    }\n",
       "\n",
       "    .dataframe tbody tr th {\n",
       "        vertical-align: top;\n",
       "    }\n",
       "\n",
       "    .dataframe thead th {\n",
       "        text-align: right;\n",
       "    }\n",
       "</style>\n",
       "<table border=\"1\" class=\"dataframe\">\n",
       "  <thead>\n",
       "    <tr style=\"text-align: right;\">\n",
       "      <th></th>\n",
       "      <th>Diameter</th>\n",
       "    </tr>\n",
       "  </thead>\n",
       "  <tbody>\n",
       "    <tr>\n",
       "      <th>0</th>\n",
       "      <td>10.22</td>\n",
       "    </tr>\n",
       "    <tr>\n",
       "      <th>1</th>\n",
       "      <td>11.00</td>\n",
       "    </tr>\n",
       "    <tr>\n",
       "      <th>2</th>\n",
       "      <td>10.98</td>\n",
       "    </tr>\n",
       "    <tr>\n",
       "      <th>3</th>\n",
       "      <td>12.26</td>\n",
       "    </tr>\n",
       "    <tr>\n",
       "      <th>4</th>\n",
       "      <td>10.96</td>\n",
       "    </tr>\n",
       "  </tbody>\n",
       "</table>\n",
       "</div>"
      ],
      "text/plain": [
       "   Diameter\n",
       "0     10.22\n",
       "1     11.00\n",
       "2     10.98\n",
       "3     12.26\n",
       "4     10.96"
      ]
     },
     "execution_count": 11,
     "metadata": {},
     "output_type": "execute_result"
    }
   ],
   "source": [
    "df2 = pd.read_excel(\"Bolt diameter.xlsx\")\n",
    "df2.head()"
   ]
  },
  {
   "cell_type": "code",
   "execution_count": 12,
   "id": "0b6522b6-0711-4798-9819-0a84cbb68093",
   "metadata": {},
   "outputs": [
    {
     "data": {
      "text/plain": [
       "0.009738124305753312"
      ]
     },
     "execution_count": 12,
     "metadata": {},
     "output_type": "execute_result"
    }
   ],
   "source": [
    " df2[\"Diameter\"].skew()"
   ]
  },
  {
   "cell_type": "markdown",
   "id": "7b130bb2-1eb9-4876-9338-396d97e0c150",
   "metadata": {},
   "source": [
    "**Step 4 : Select the statistical test and check p-value**"
   ]
  },
  {
   "cell_type": "markdown",
   "id": "bfbb2aa0-556c-4653-9f0a-d3d7ee486f85",
   "metadata": {},
   "source": [
    "- 1 sample t-test with two tail Rejection (Here, standard deviation as not given so selected (t-test)"
   ]
  },
  {
   "cell_type": "code",
   "execution_count": 14,
   "id": "73fd3a2c-f2d1-4a7f-8fa9-defd59626c36",
   "metadata": {},
   "outputs": [
    {
     "data": {
      "text/plain": [
       "TtestResult(statistic=4.994230312195523, pvalue=8.05307069702133e-05, df=19)"
      ]
     },
     "execution_count": 14,
     "metadata": {},
     "output_type": "execute_result"
    }
   ],
   "source": [
    "from scipy import stats\n",
    "\n",
    "ttest = stats.ttest_1samp(df2[\"Diameter\"],popmean=10,alternative=\"two-sided\")\n",
    "ttest"
   ]
  },
  {
   "cell_type": "markdown",
   "id": "34c3ce47-da51-4360-90f3-98168953c954",
   "metadata": {},
   "source": [
    "**Step 5 : Based on p-value, Accept or Reject H0**"
   ]
  },
  {
   "cell_type": "markdown",
   "id": "17e0ba91-b30e-4337-a33d-9480424bfafd",
   "metadata": {},
   "source": [
    "- p < alpha\n",
    "- 8.05307069702133e-05 < 0.1\n",
    "- p low -- Null go\n",
    "- Reject H0 \n",
    "- Accept H1 --> mean != 10mm (Action required)"
   ]
  },
  {
   "cell_type": "markdown",
   "id": "e23682bd-cb87-4e7c-96ce-91103a19deb6",
   "metadata": {},
   "source": [
    "# ANOVA (f-test)"
   ]
  },
  {
   "cell_type": "markdown",
   "id": "1a621744-2695-4734-9390-33450aa4186d",
   "metadata": {},
   "source": [
    "**Case study 3 : Creditcard promotion** "
   ]
  },
  {
   "cell_type": "markdown",
   "id": "61fe2a7f-6cc1-4270-aa84-2c96b1bdd4d1",
   "metadata": {},
   "source": [
    "A financial analyst at a Financial institute wants to evaluate a recent credit card promotion. After this promotion, 500 cardholders were randomly selected. Half received an add promoting a full waiver of interest rate on purchases made over the next three months, and half received a standard christmas advertisement. Did the add promoting full interest rate waiver, increase purchases ?"
   ]
  },
  {
   "cell_type": "markdown",
   "id": "b8423c71-9924-42f4-95a9-fd91e22b52a9",
   "metadata": {},
   "source": [
    "**Step 1 : Formation of H0, H1**"
   ]
  },
  {
   "cell_type": "markdown",
   "id": "2716b955-84fa-4d0b-b8ba-fd5bf8708786",
   "metadata": {},
   "source": [
    "- H0 : No difference (Avg of purchases made by FIW == Avg purchases made by SC)\n",
    "- H1 : difference    (Avg of purchases made by FIW != Avg purchases made by SC)"
   ]
  },
  {
   "cell_type": "markdown",
   "id": "d30b0371-1ae0-4445-953f-1313aae66d9e",
   "metadata": {},
   "source": [
    "**Step 2 : Check the level of significance**"
   ]
  },
  {
   "cell_type": "markdown",
   "id": "1478096e-d4da-47b3-8dfa-28b802a55ed9",
   "metadata": {},
   "source": [
    "- alpha = 0.05"
   ]
  },
  {
   "cell_type": "markdown",
   "id": "89f8c930-3a4d-4272-9078-2d75f9171ed2",
   "metadata": {},
   "source": [
    "**Step 3 : Check for Normality**"
   ]
  },
  {
   "cell_type": "code",
   "execution_count": 15,
   "id": "b51f5454-83cf-42cb-ba19-b401865875b0",
   "metadata": {},
   "outputs": [
    {
     "data": {
      "text/html": [
       "<div>\n",
       "<style scoped>\n",
       "    .dataframe tbody tr th:only-of-type {\n",
       "        vertical-align: middle;\n",
       "    }\n",
       "\n",
       "    .dataframe tbody tr th {\n",
       "        vertical-align: top;\n",
       "    }\n",
       "\n",
       "    .dataframe thead th {\n",
       "        text-align: right;\n",
       "    }\n",
       "</style>\n",
       "<table border=\"1\" class=\"dataframe\">\n",
       "  <thead>\n",
       "    <tr style=\"text-align: right;\">\n",
       "      <th></th>\n",
       "      <th>InterestRateWaiver</th>\n",
       "      <th>StandardPromotion</th>\n",
       "    </tr>\n",
       "  </thead>\n",
       "  <tbody>\n",
       "    <tr>\n",
       "      <th>0</th>\n",
       "      <td>1989.10</td>\n",
       "      <td>1272.25</td>\n",
       "    </tr>\n",
       "    <tr>\n",
       "      <th>1</th>\n",
       "      <td>1808.38</td>\n",
       "      <td>1250.38</td>\n",
       "    </tr>\n",
       "    <tr>\n",
       "      <th>2</th>\n",
       "      <td>1153.75</td>\n",
       "      <td>1474.78</td>\n",
       "    </tr>\n",
       "    <tr>\n",
       "      <th>3</th>\n",
       "      <td>1745.64</td>\n",
       "      <td>2064.89</td>\n",
       "    </tr>\n",
       "    <tr>\n",
       "      <th>4</th>\n",
       "      <td>1008.24</td>\n",
       "      <td>2030.87</td>\n",
       "    </tr>\n",
       "  </tbody>\n",
       "</table>\n",
       "</div>"
      ],
      "text/plain": [
       "   InterestRateWaiver  StandardPromotion\n",
       "0             1989.10            1272.25\n",
       "1             1808.38            1250.38\n",
       "2             1153.75            1474.78\n",
       "3             1745.64            2064.89\n",
       "4             1008.24            2030.87"
      ]
     },
     "execution_count": 15,
     "metadata": {},
     "output_type": "execute_result"
    }
   ],
   "source": [
    "df3 = pd.read_excel(\"Promotion.xlsx\")\n",
    "df3.head()"
   ]
  },
  {
   "cell_type": "code",
   "execution_count": 16,
   "id": "5d6c20b6-d9e0-446d-ab00-79e0756cf323",
   "metadata": {},
   "outputs": [
    {
     "data": {
      "text/plain": [
       "(-0.186848927819777, 0.1556560407787534)"
      ]
     },
     "execution_count": 16,
     "metadata": {},
     "output_type": "execute_result"
    }
   ],
   "source": [
    "df3[\"InterestRateWaiver\"].skew(), df3[\"StandardPromotion\"].skew()"
   ]
  },
  {
   "cell_type": "markdown",
   "id": "87c98c2a-d7b9-43d0-8ed8-8a91a6e5fd09",
   "metadata": {},
   "source": [
    "**Step 4 : Select the statistical test and check p-value**"
   ]
  },
  {
   "cell_type": "markdown",
   "id": "88dd54fa-d897-4de4-a370-a0c6df7b635e",
   "metadata": {},
   "source": [
    "- ANOVA test --> Analysis of variance (f-test) (Here we have multiple columns with continuous variable , so we selected the ANOVA test)"
   ]
  },
  {
   "cell_type": "code",
   "execution_count": 17,
   "id": "5055cd11-6356-4def-9acc-2eb53b01e50f",
   "metadata": {},
   "outputs": [
    {
     "data": {
      "text/plain": [
       "F_onewayResult(statistic=5.109521918142664, pvalue=0.02422584468584416)"
      ]
     },
     "execution_count": 17,
     "metadata": {},
     "output_type": "execute_result"
    }
   ],
   "source": [
    "anova_test = stats.f_oneway(df3[\"InterestRateWaiver\"],df3[\"StandardPromotion\"])\n",
    "anova_test"
   ]
  },
  {
   "cell_type": "markdown",
   "id": "c48ac102-2f97-4712-bde6-2c426e25fdc0",
   "metadata": {},
   "source": [
    "**Step 5 : Based on p-value, Accept or Reject H0**"
   ]
  },
  {
   "cell_type": "markdown",
   "id": "094d8e9e-b7a1-4c23-87c5-0a6d95d5a317",
   "metadata": {},
   "source": [
    "- p < alpha\n",
    "- 0.02422584468584416 < 0.05\n",
    "- p low -- Null go\n",
    "- Reject H0 \n",
    "- Accept H1 --> there is a differnce"
   ]
  },
  {
   "cell_type": "markdown",
   "id": "e6bd46ff-bd69-4532-8348-88981cfd0d1e",
   "metadata": {},
   "source": [
    "# 1-proportional test"
   ]
  },
  {
   "cell_type": "markdown",
   "id": "4ed80f84-6322-4dce-9ce9-dcd6a5f058d7",
   "metadata": {},
   "source": [
    "**Case study 4 :** The people carry out a poll to find the acceptability of new football coach. It was decided that if the support rate for the coach for the entire population was truly less than 90%, the coach would be fired, 2000 people participated and 496 poeple supported the new coach. conduct a test to check if the new coach should be fired with 95% level of confidence"
   ]
  },
  {
   "cell_type": "markdown",
   "id": "30d6d34e-2844-4a97-b211-bfd917e36db2",
   "metadata": {},
   "source": [
    "**Step 1 : Formation of H0, H1**"
   ]
  },
  {
   "cell_type": "markdown",
   "id": "a65a61de-9d43-4437-a8be-e54ba3d991fb",
   "metadata": {},
   "source": [
    "- H0 : Coach not to be fired (No action)\n",
    "- H1 : Coach to be fired     (action)"
   ]
  },
  {
   "cell_type": "markdown",
   "id": "c95d0736-18aa-4c4c-ab39-b8496f8bc1ed",
   "metadata": {},
   "source": [
    "**Step 2 : Level if significance**"
   ]
  },
  {
   "cell_type": "markdown",
   "id": "2773f0fa-f3be-4d16-9a8b-d85fafdbfc7a",
   "metadata": {},
   "source": [
    "- alpha = 0.05"
   ]
  },
  {
   "cell_type": "markdown",
   "id": "11bed10d-287b-42e9-9aa2-8d978ddcb614",
   "metadata": {},
   "source": [
    "**Step 3 : Check for Normality** (For discrete varible we will not check for skewness)"
   ]
  },
  {
   "cell_type": "markdown",
   "id": "efd44dab-b02c-4d52-93d2-c1853356f5fa",
   "metadata": {},
   "source": [
    "**Step 4 : Select the statistical test and check p-value**"
   ]
  },
  {
   "cell_type": "markdown",
   "id": "e9fde501-d8c1-4569-9550-91d609e02309",
   "metadata": {},
   "source": [
    "- 1 proportional test (Here, we selected 1-proportional test because, we have single column, discrete varible )"
   ]
  },
  {
   "cell_type": "code",
   "execution_count": 22,
   "id": "634a59c0-d2bf-45d3-a241-fd03e65ed5ec",
   "metadata": {},
   "outputs": [
    {
     "data": {
      "text/plain": [
       "BinomTestResult(k=496, n=2000, alternative='two-sided', statistic=0.248, pvalue=0.0)"
      ]
     },
     "execution_count": 22,
     "metadata": {},
     "output_type": "execute_result"
    }
   ],
   "source": [
    "binom_test = stats.binomtest(496,2000,0.9)\n",
    "binom_test"
   ]
  },
  {
   "cell_type": "markdown",
   "id": "cd5b61cd-84d1-4163-a839-8b824aea0f89",
   "metadata": {},
   "source": [
    "**Step 5 : Based on p-value, Accept or Reject H0**"
   ]
  },
  {
   "cell_type": "markdown",
   "id": "524bfb9c-0a60-470f-9458-0f1f5c3b289d",
   "metadata": {},
   "source": [
    "- p < alpha\n",
    "- 0.0 < 0.05\n",
    "- p low -- Null go\n",
    "- Reject H0 \n",
    "- Accept H1 --> Coach to be fired (take Action)"
   ]
  },
  {
   "cell_type": "markdown",
   "id": "af1610b0-114a-424d-946f-53140eb3c696",
   "metadata": {},
   "source": [
    "# Chi-square test"
   ]
  },
  {
   "cell_type": "markdown",
   "id": "a41cc84e-7f44-46c2-87a2-7783ea36e754",
   "metadata": {},
   "source": [
    "**Case study 5 :** Johmmie Talkers soft drinks division sales manager has been planning to launch a new sales incentives program for their sales executives. The sales executives felt that adults (>40 yrs) won't buy, children will & hence requested sales manager not to launch the program. Analyze the data & determine whether  there is evidence at 5% significance level to support the hypothesis"
   ]
  },
  {
   "cell_type": "markdown",
   "id": "59d6cc9f-fa96-4639-aab3-03f22c7a8996",
   "metadata": {},
   "source": [
    "**Step 1 : Formation of H0, H1**"
   ]
  },
  {
   "cell_type": "markdown",
   "id": "19e5d94d-c912-4b69-8048-a0ab3f6d6ce0",
   "metadata": {},
   "source": [
    "- H0 : Proportions of Adults == Proportions of children (No difference)\n",
    "- H1 : Proportions of Adults != Proportions of children (difference)"
   ]
  },
  {
   "cell_type": "markdown",
   "id": "8b36f1fd-2451-4e21-b3c4-f92d18ddf51b",
   "metadata": {},
   "source": [
    "**Step 2 : Level if significance**"
   ]
  },
  {
   "cell_type": "markdown",
   "id": "97838e44-693d-4c18-ba8c-1dfb71051bef",
   "metadata": {},
   "source": [
    "- alpha = 0.05"
   ]
  },
  {
   "cell_type": "markdown",
   "id": "4c0ffa71-1190-4681-895e-85167375b680",
   "metadata": {},
   "source": [
    "**Step 3 : Check for Normality** (For discrete varible we will not check for skewness)"
   ]
  },
  {
   "cell_type": "markdown",
   "id": "738e38a1-55f1-4b85-9ae3-d7900f63ea95",
   "metadata": {},
   "source": [
    "**Step 4 : Select the statistical test and check p-value**"
   ]
  },
  {
   "cell_type": "markdown",
   "id": "d80b3126-2d72-449f-9d58-94932647e6cb",
   "metadata": {},
   "source": [
    "- Chi-Square test (Here, we selected chi-square test because, we have multiple column, discrete varible )"
   ]
  },
  {
   "cell_type": "code",
   "execution_count": 24,
   "id": "f145981a-a95e-4371-9a18-45b18a06d76f",
   "metadata": {},
   "outputs": [
    {
     "data": {
      "text/html": [
       "<div>\n",
       "<style scoped>\n",
       "    .dataframe tbody tr th:only-of-type {\n",
       "        vertical-align: middle;\n",
       "    }\n",
       "\n",
       "    .dataframe tbody tr th {\n",
       "        vertical-align: top;\n",
       "    }\n",
       "\n",
       "    .dataframe thead th {\n",
       "        text-align: right;\n",
       "    }\n",
       "</style>\n",
       "<table border=\"1\" class=\"dataframe\">\n",
       "  <thead>\n",
       "    <tr style=\"text-align: right;\">\n",
       "      <th></th>\n",
       "      <th>Person</th>\n",
       "      <th>Drinks</th>\n",
       "    </tr>\n",
       "  </thead>\n",
       "  <tbody>\n",
       "    <tr>\n",
       "      <th>0</th>\n",
       "      <td>Adults</td>\n",
       "      <td>Did Not Purchase</td>\n",
       "    </tr>\n",
       "    <tr>\n",
       "      <th>1</th>\n",
       "      <td>Adults</td>\n",
       "      <td>Did Not Purchase</td>\n",
       "    </tr>\n",
       "    <tr>\n",
       "      <th>2</th>\n",
       "      <td>Adults</td>\n",
       "      <td>Did Not Purchase</td>\n",
       "    </tr>\n",
       "    <tr>\n",
       "      <th>3</th>\n",
       "      <td>Adults</td>\n",
       "      <td>Did Not Purchase</td>\n",
       "    </tr>\n",
       "    <tr>\n",
       "      <th>4</th>\n",
       "      <td>Adults</td>\n",
       "      <td>Did Not Purchase</td>\n",
       "    </tr>\n",
       "  </tbody>\n",
       "</table>\n",
       "</div>"
      ],
      "text/plain": [
       "   Person            Drinks\n",
       "0  Adults  Did Not Purchase\n",
       "1  Adults  Did Not Purchase\n",
       "2  Adults  Did Not Purchase\n",
       "3  Adults  Did Not Purchase\n",
       "4  Adults  Did Not Purchase"
      ]
     },
     "execution_count": 24,
     "metadata": {},
     "output_type": "execute_result"
    }
   ],
   "source": [
    "df5 = pd.read_excel(\"JohnyTalkers.xlsx\")\n",
    "df5.head()"
   ]
  },
  {
   "cell_type": "code",
   "execution_count": 25,
   "id": "1933f37a-ff94-4900-b2d2-f62654a566cf",
   "metadata": {},
   "outputs": [
    {
     "name": "stdout",
     "output_type": "stream",
     "text": [
      "<class 'pandas.core.frame.DataFrame'>\n",
      "RangeIndex: 1220 entries, 0 to 1219\n",
      "Data columns (total 2 columns):\n",
      " #   Column  Non-Null Count  Dtype \n",
      "---  ------  --------------  ----- \n",
      " 0   Person  1220 non-null   object\n",
      " 1   Drinks  1220 non-null   object\n",
      "dtypes: object(2)\n",
      "memory usage: 19.2+ KB\n"
     ]
    }
   ],
   "source": [
    "df5.info()"
   ]
  },
  {
   "cell_type": "code",
   "execution_count": 26,
   "id": "ece791ac-d0c5-469b-9be0-67544b29dde4",
   "metadata": {},
   "outputs": [
    {
     "data": {
      "text/plain": [
       "array(['Adults', 'Children'], dtype=object)"
      ]
     },
     "execution_count": 26,
     "metadata": {},
     "output_type": "execute_result"
    }
   ],
   "source": [
    "df5[\"Person\"].unique()"
   ]
  },
  {
   "cell_type": "code",
   "execution_count": 27,
   "id": "797635c0-a814-479d-9bc0-b1004c1c6040",
   "metadata": {},
   "outputs": [
    {
     "data": {
      "text/plain": [
       "Person\n",
       "Children    740\n",
       "Adults      480\n",
       "Name: count, dtype: int64"
      ]
     },
     "execution_count": 27,
     "metadata": {},
     "output_type": "execute_result"
    }
   ],
   "source": [
    "df5[\"Person\"].value_counts()"
   ]
  },
  {
   "cell_type": "code",
   "execution_count": 28,
   "id": "888c01a8-4b8e-458d-adec-79cb88084746",
   "metadata": {},
   "outputs": [
    {
     "data": {
      "text/plain": [
       "array(['Did Not Purchase', 'Purchased'], dtype=object)"
      ]
     },
     "execution_count": 28,
     "metadata": {},
     "output_type": "execute_result"
    }
   ],
   "source": [
    "df5[\"Drinks\"].unique()"
   ]
  },
  {
   "cell_type": "code",
   "execution_count": 30,
   "id": "1cec19e5-424b-444e-aae7-761f022c53d6",
   "metadata": {},
   "outputs": [
    {
     "data": {
      "text/plain": [
       "Drinks\n",
       "Did Not Purchase    1010\n",
       "Purchased            210\n",
       "Name: count, dtype: int64"
      ]
     },
     "execution_count": 30,
     "metadata": {},
     "output_type": "execute_result"
    }
   ],
   "source": [
    "df5[\"Drinks\"].value_counts()"
   ]
  },
  {
   "cell_type": "code",
   "execution_count": 32,
   "id": "8a925bf6-6043-46d7-b6e0-ced96f7bc8d3",
   "metadata": {},
   "outputs": [
    {
     "data": {
      "text/html": [
       "<div>\n",
       "<style scoped>\n",
       "    .dataframe tbody tr th:only-of-type {\n",
       "        vertical-align: middle;\n",
       "    }\n",
       "\n",
       "    .dataframe tbody tr th {\n",
       "        vertical-align: top;\n",
       "    }\n",
       "\n",
       "    .dataframe thead th {\n",
       "        text-align: right;\n",
       "    }\n",
       "</style>\n",
       "<table border=\"1\" class=\"dataframe\">\n",
       "  <thead>\n",
       "    <tr style=\"text-align: right;\">\n",
       "      <th>Drinks</th>\n",
       "      <th>Did Not Purchase</th>\n",
       "      <th>Purchased</th>\n",
       "      <th>All</th>\n",
       "    </tr>\n",
       "    <tr>\n",
       "      <th>Person</th>\n",
       "      <th></th>\n",
       "      <th></th>\n",
       "      <th></th>\n",
       "    </tr>\n",
       "  </thead>\n",
       "  <tbody>\n",
       "    <tr>\n",
       "      <th>Adults</th>\n",
       "      <td>422</td>\n",
       "      <td>58</td>\n",
       "      <td>480</td>\n",
       "    </tr>\n",
       "    <tr>\n",
       "      <th>Children</th>\n",
       "      <td>588</td>\n",
       "      <td>152</td>\n",
       "      <td>740</td>\n",
       "    </tr>\n",
       "    <tr>\n",
       "      <th>All</th>\n",
       "      <td>1010</td>\n",
       "      <td>210</td>\n",
       "      <td>1220</td>\n",
       "    </tr>\n",
       "  </tbody>\n",
       "</table>\n",
       "</div>"
      ],
      "text/plain": [
       "Drinks    Did Not Purchase  Purchased   All\n",
       "Person                                     \n",
       "Adults                 422         58   480\n",
       "Children               588        152   740\n",
       "All                   1010        210  1220"
      ]
     },
     "execution_count": 32,
     "metadata": {},
     "output_type": "execute_result"
    }
   ],
   "source": [
    "count=pd.crosstab(df5[\"Person\"],df5[\"Drinks\"],margins=True)\n",
    "count"
   ]
  },
  {
   "cell_type": "code",
   "execution_count": 33,
   "id": "17f80fc8-85f2-4cfd-88a6-7240a5e18d4f",
   "metadata": {},
   "outputs": [
    {
     "data": {
      "text/plain": [
       "Chi2ContingencyResult(statistic=14.613224681541515, pvalue=0.005574456386286158, dof=4, expected_freq=array([[ 397.37704918,   82.62295082,  480.        ],\n",
       "       [ 612.62295082,  127.37704918,  740.        ],\n",
       "       [1010.        ,  210.        , 1220.        ]]))"
      ]
     },
     "execution_count": 33,
     "metadata": {},
     "output_type": "execute_result"
    }
   ],
   "source": [
    "chisquare_test = stats.chi2_contingency(count)\n",
    "chisquare_test"
   ]
  },
  {
   "cell_type": "markdown",
   "id": "eb91b759-246e-43bf-8b50-c3469ce89b68",
   "metadata": {},
   "source": [
    "**Step 5 : Based on p-value, Accept or Reject H0**"
   ]
  },
  {
   "cell_type": "markdown",
   "id": "95689404-8397-4804-bc7a-336f6b1fbc3c",
   "metadata": {},
   "source": [
    "- p < alpha\n",
    "- 0.005574456386286158 < 0.05\n",
    "- p low -- Null go\n",
    "- Reject H0 \n",
    "- Accept H1 --> there is a difference"
   ]
  }
 ],
 "metadata": {
  "kernelspec": {
   "display_name": "Python [conda env:base] *",
   "language": "python",
   "name": "conda-base-py"
  },
  "language_info": {
   "codemirror_mode": {
    "name": "ipython",
    "version": 3
   },
   "file_extension": ".py",
   "mimetype": "text/x-python",
   "name": "python",
   "nbconvert_exporter": "python",
   "pygments_lexer": "ipython3",
   "version": "3.12.7"
  }
 },
 "nbformat": 4,
 "nbformat_minor": 5
}
